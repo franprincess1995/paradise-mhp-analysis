{
 "cells": [
  {
   "cell_type": "markdown",
   "id": "f2b0aa68-e8fa-42e3-8988-cbf2164e620d",
   "metadata": {},
   "source": [
    "# Analyzing - Looking Into How Parks in Paradise Compare to Cities of Similar Size\n"
   ]
  },
  {
   "cell_type": "markdown",
   "id": "4a32f275-6b2b-4a73-9679-fa05def9f387",
   "metadata": {},
   "source": [
    "### By Kavish Harjai"
   ]
  },
  {
   "cell_type": "markdown",
   "id": "9cd6cb26-caca-4b35-aeff-ae1b1085c0da",
   "metadata": {},
   "source": [
    "In this notebook, I analyze the number of mobile home lots in cities that had a similar population density to Paradise in 2018.\n",
    "\n",
    "To find the range of comparison cities, I first found out at which percentile Paradise's population density falls. Then I found the values that corresponded with five percentile points above and below. I use those values to filter my dataset to 60+ cities that had comparable population densities. \n",
    "\n"
   ]
  },
  {
   "cell_type": "code",
   "execution_count": 1,
   "id": "5d3f1d44-016a-4e32-bcc5-6e09bc2ec5b8",
   "metadata": {},
   "outputs": [],
   "source": [
    "import pandas as pd \n",
    "import numpy as np\n",
    "import os as os\n",
    "import requests\n",
    "from pprint import pprint"
   ]
  },
  {
   "cell_type": "code",
   "execution_count": 2,
   "id": "31b9b7d0-c987-44cb-a489-e250a9ba430f",
   "metadata": {},
   "outputs": [],
   "source": [
    "data_dir = os.environ[\"DATA_DIR\"]\n",
    "raw_data = data_dir + \"/raw/\"\n",
    "processed_data = data_dir + '/processed/'"
   ]
  },
  {
   "cell_type": "code",
   "execution_count": 4,
   "id": "2fc5a932-e637-42a8-9a9c-89fe0ac7dc6c",
   "metadata": {},
   "outputs": [
    {
     "name": "stdout",
     "output_type": "stream",
     "text": [
      "<class 'pandas.core.frame.DataFrame'>\n",
      "RangeIndex: 1521 entries, 0 to 1520\n",
      "Data columns (total 8 columns):\n",
      " #   Column        Non-Null Count  Dtype  \n",
      "---  ------        --------------  -----  \n",
      " 0   city          1521 non-null   object \n",
      " 1   pop_2018_est  1521 non-null   int64  \n",
      " 2   place         1521 non-null   int64  \n",
      " 3   city_y        1521 non-null   object \n",
      " 4   area_land     1521 non-null   float64\n",
      " 5   place_type    1521 non-null   object \n",
      " 6   pop_density   1521 non-null   float64\n",
      " 7   mh_spaces     678 non-null    float64\n",
      "dtypes: float64(3), int64(2), object(3)\n",
      "memory usage: 95.2+ KB\n"
     ]
    }
   ],
   "source": [
    "mh_merge = pd.read_csv(processed_data + 'mh_merge.csv')\n",
    "mh_merge.info()"
   ]
  },
  {
   "cell_type": "code",
   "execution_count": 5,
   "id": "44210609-2be8-4a4a-bd3d-6f3849b82c22",
   "metadata": {},
   "outputs": [],
   "source": [
    "mh_merge_filtered = mh_merge.dropna()"
   ]
  },
  {
   "cell_type": "code",
   "execution_count": 6,
   "id": "e77247a6-6ea2-400b-b7b0-7782c7514c3b",
   "metadata": {},
   "outputs": [
    {
     "data": {
      "text/plain": [
       "count        678.000000\n",
       "mean       43852.662242\n",
       "std       175206.005129\n",
       "min            0.000000\n",
       "25%         1387.000000\n",
       "50%         8810.500000\n",
       "75%        46604.000000\n",
       "max      3959657.000000\n",
       "Name: pop_2018_est, dtype: object"
      ]
     },
     "execution_count": 6,
     "metadata": {},
     "output_type": "execute_result"
    }
   ],
   "source": [
    "mh_merge_filtered['pop_2018_est'].describe().apply(lambda x: format(x, 'f'))"
   ]
  },
  {
   "cell_type": "code",
   "execution_count": 7,
   "id": "0b2a461a-c2de-4d07-9afb-301d5bb7ff15",
   "metadata": {},
   "outputs": [
    {
     "data": {
      "text/html": [
       "<div>\n",
       "<style scoped>\n",
       "    .dataframe tbody tr th:only-of-type {\n",
       "        vertical-align: middle;\n",
       "    }\n",
       "\n",
       "    .dataframe tbody tr th {\n",
       "        vertical-align: top;\n",
       "    }\n",
       "\n",
       "    .dataframe thead th {\n",
       "        text-align: right;\n",
       "    }\n",
       "</style>\n",
       "<table border=\"1\" class=\"dataframe\">\n",
       "  <thead>\n",
       "    <tr style=\"text-align: right;\">\n",
       "      <th></th>\n",
       "      <th>city</th>\n",
       "      <th>pop_2018_est</th>\n",
       "      <th>place</th>\n",
       "      <th>city_y</th>\n",
       "      <th>area_land</th>\n",
       "      <th>place_type</th>\n",
       "      <th>pop_density</th>\n",
       "      <th>mh_spaces</th>\n",
       "    </tr>\n",
       "  </thead>\n",
       "  <tbody>\n",
       "    <tr>\n",
       "      <th>183</th>\n",
       "      <td>Paradise</td>\n",
       "      <td>26543</td>\n",
       "      <td>55520</td>\n",
       "      <td>Paradise</td>\n",
       "      <td>18.32</td>\n",
       "      <td>Paradise town</td>\n",
       "      <td>1448.85</td>\n",
       "      <td>1586.0</td>\n",
       "    </tr>\n",
       "    <tr>\n",
       "      <th>874</th>\n",
       "      <td>Paradise</td>\n",
       "      <td>186</td>\n",
       "      <td>55528</td>\n",
       "      <td>Paradise</td>\n",
       "      <td>4.35</td>\n",
       "      <td>Paradise CDP</td>\n",
       "      <td>42.76</td>\n",
       "      <td>1586.0</td>\n",
       "    </tr>\n",
       "  </tbody>\n",
       "</table>\n",
       "</div>"
      ],
      "text/plain": [
       "         city  pop_2018_est  place    city_y  area_land     place_type  \\\n",
       "183  Paradise         26543  55520  Paradise      18.32  Paradise town   \n",
       "874  Paradise           186  55528  Paradise       4.35   Paradise CDP   \n",
       "\n",
       "     pop_density  mh_spaces  \n",
       "183      1448.85     1586.0  \n",
       "874        42.76     1586.0  "
      ]
     },
     "execution_count": 7,
     "metadata": {},
     "output_type": "execute_result"
    }
   ],
   "source": [
    "mh_merge_filtered[mh_merge_filtered.city == 'Paradise']"
   ]
  },
  {
   "cell_type": "markdown",
   "id": "8bf5119e-9352-427d-86e8-3521a88bd05b",
   "metadata": {},
   "source": [
    "**There are two Paradise matches because the smaller one is a CDP. The larger one is the town of Paradise.**"
   ]
  },
  {
   "cell_type": "markdown",
   "id": "10b8476b-a1a3-4393-954a-a9e6af54b6fb",
   "metadata": {},
   "source": [
    "**To find the range of cities to compare to Paradise, I'll find at which percentile the town of Paradise's population density falls.**"
   ]
  },
  {
   "cell_type": "code",
   "execution_count": 8,
   "id": "a485cc19-3626-497b-8d94-f9bd945cb393",
   "metadata": {},
   "outputs": [
    {
     "data": {
      "text/plain": [
       "0.1       65.400\n",
       "0.2      181.572\n",
       "0.3      489.355\n",
       "0.4      940.922\n",
       "0.5     1737.390\n",
       "0.6     2710.674\n",
       "0.7     3450.765\n",
       "0.8     4322.878\n",
       "0.9     6754.560\n",
       "1.0    20352.540\n",
       "Name: pop_density, dtype: float64"
      ]
     },
     "execution_count": 8,
     "metadata": {},
     "output_type": "execute_result"
    }
   ],
   "source": [
    "mh_merge_filtered['pop_density'].quantile(q=[0.1,\n",
    "                                              0.2,\n",
    "                                              0.3,\n",
    "                                              0.4,\n",
    "                                              0.5,\n",
    "                                              0.6,\n",
    "                                              0.7,\n",
    "                                              0.8,\n",
    "                                              0.9,\n",
    "                                              1.0])"
   ]
  },
  {
   "cell_type": "markdown",
   "id": "580583a9-897a-40bd-aff8-2b2e91cef7bf",
   "metadata": {},
   "source": [
    "**Paradise falls somewhere between the 40th and 50th percentile. I'll drill down further.**"
   ]
  },
  {
   "cell_type": "code",
   "execution_count": 9,
   "id": "fe94aa3e-d110-4411-acac-0e5dbf5e1081",
   "metadata": {},
   "outputs": [
    {
     "data": {
      "text/plain": [
       "0.40     940.9220\n",
       "0.41     967.0455\n",
       "0.42    1151.2548\n",
       "0.43    1221.7383\n",
       "0.44    1286.7516\n",
       "0.45    1318.8820\n",
       "0.46    1388.6062\n",
       "0.47    1484.7854\n",
       "0.48    1530.8668\n",
       "0.49    1660.7012\n",
       "0.50    1737.3900\n",
       "0.51    1862.2144\n",
       "0.52    1942.4144\n",
       "Name: pop_density, dtype: float64"
      ]
     },
     "execution_count": 9,
     "metadata": {},
     "output_type": "execute_result"
    }
   ],
   "source": [
    "mh_merge_filtered['pop_density'].quantile(q=[0.4,\n",
    "                                             0.41,\n",
    "                                             0.42,\n",
    "                                             0.43,\n",
    "                                             0.44,\n",
    "                                             0.45,\n",
    "                                             0.46,\n",
    "                                             0.47,\n",
    "                                             0.48,\n",
    "                                             0.49,\n",
    "                                             0.5,\n",
    "                                            0.51,\n",
    "                                            0.52])"
   ]
  },
  {
   "cell_type": "markdown",
   "id": "9da3afb2-66af-4e15-8cda-60c00a6dbf70",
   "metadata": {},
   "source": [
    "**Paradise falls at the 47th quartile. To create my range based on percentiles, I will use the 42nd percentile as my lower limit and 52nd as my upper limit. That's 1151.2548 and 1942.4144.**"
   ]
  },
  {
   "cell_type": "code",
   "execution_count": 10,
   "id": "0e18314c-f86f-4647-b033-55c3cae2afbc",
   "metadata": {},
   "outputs": [],
   "source": [
    "comparison_range_popdens_percentile = mh_merge_filtered[\n",
    "    (mh_merge_filtered['pop_density']>= 1151.2548) & \n",
    "    (mh_merge_filtered['pop_density']<= 1942.4144)]\n"
   ]
  },
  {
   "cell_type": "code",
   "execution_count": 12,
   "id": "aa82d5b2-2521-4f1d-9721-7673b0478049",
   "metadata": {},
   "outputs": [
    {
     "name": "stdout",
     "output_type": "stream",
     "text": [
      "<class 'pandas.core.frame.DataFrame'>\n",
      "Int64Index: 68 entries, 14 to 1454\n",
      "Data columns (total 8 columns):\n",
      " #   Column        Non-Null Count  Dtype  \n",
      "---  ------        --------------  -----  \n",
      " 0   city          68 non-null     object \n",
      " 1   pop_2018_est  68 non-null     int64  \n",
      " 2   place         68 non-null     int64  \n",
      " 3   city_y        68 non-null     object \n",
      " 4   area_land     68 non-null     float64\n",
      " 5   place_type    68 non-null     object \n",
      " 6   pop_density   68 non-null     float64\n",
      " 7   mh_spaces     68 non-null     float64\n",
      "dtypes: float64(3), int64(2), object(3)\n",
      "memory usage: 4.8+ KB\n"
     ]
    }
   ],
   "source": [
    "comparison_range_popdens_percentile.info()"
   ]
  },
  {
   "cell_type": "code",
   "execution_count": 13,
   "id": "e02fa461-8fe4-43f0-8d17-81a19642358a",
   "metadata": {},
   "outputs": [
    {
     "data": {
      "text/html": [
       "<div>\n",
       "<style scoped>\n",
       "    .dataframe tbody tr th:only-of-type {\n",
       "        vertical-align: middle;\n",
       "    }\n",
       "\n",
       "    .dataframe tbody tr th {\n",
       "        vertical-align: top;\n",
       "    }\n",
       "\n",
       "    .dataframe thead th {\n",
       "        text-align: right;\n",
       "    }\n",
       "</style>\n",
       "<table border=\"1\" class=\"dataframe\">\n",
       "  <thead>\n",
       "    <tr style=\"text-align: right;\">\n",
       "      <th></th>\n",
       "      <th>index</th>\n",
       "      <th>city</th>\n",
       "      <th>pop_2018_est</th>\n",
       "      <th>place</th>\n",
       "      <th>city_y</th>\n",
       "      <th>area_land</th>\n",
       "      <th>place_type</th>\n",
       "      <th>pop_density</th>\n",
       "      <th>mh_spaces</th>\n",
       "    </tr>\n",
       "  </thead>\n",
       "  <tbody>\n",
       "    <tr>\n",
       "      <th>0</th>\n",
       "      <td>556</td>\n",
       "      <td>Yucaipa</td>\n",
       "      <td>53264</td>\n",
       "      <td>87042</td>\n",
       "      <td>Yucaipa</td>\n",
       "      <td>28.29</td>\n",
       "      <td>Yucaipa city</td>\n",
       "      <td>1882.79</td>\n",
       "      <td>4557.0</td>\n",
       "    </tr>\n",
       "    <tr>\n",
       "      <th>1</th>\n",
       "      <td>574</td>\n",
       "      <td>Lancaster</td>\n",
       "      <td>159662</td>\n",
       "      <td>40130</td>\n",
       "      <td>Lancaster</td>\n",
       "      <td>94.28</td>\n",
       "      <td>Lancaster city</td>\n",
       "      <td>1693.49</td>\n",
       "      <td>4177.0</td>\n",
       "    </tr>\n",
       "    <tr>\n",
       "      <th>2</th>\n",
       "      <td>1169</td>\n",
       "      <td>Redding</td>\n",
       "      <td>91327</td>\n",
       "      <td>59920</td>\n",
       "      <td>Redding</td>\n",
       "      <td>59.65</td>\n",
       "      <td>Redding city</td>\n",
       "      <td>1531.05</td>\n",
       "      <td>2569.0</td>\n",
       "    </tr>\n",
       "    <tr>\n",
       "      <th>3</th>\n",
       "      <td>14</td>\n",
       "      <td>Palmdale</td>\n",
       "      <td>156904</td>\n",
       "      <td>55156</td>\n",
       "      <td>Palmdale</td>\n",
       "      <td>106.08</td>\n",
       "      <td>Palmdale city</td>\n",
       "      <td>1479.11</td>\n",
       "      <td>2098.0</td>\n",
       "    </tr>\n",
       "    <tr>\n",
       "      <th>4</th>\n",
       "      <td>980</td>\n",
       "      <td>San Jacinto</td>\n",
       "      <td>47474</td>\n",
       "      <td>67112</td>\n",
       "      <td>San Jacinto</td>\n",
       "      <td>25.71</td>\n",
       "      <td>San Jacinto city</td>\n",
       "      <td>1846.52</td>\n",
       "      <td>1846.0</td>\n",
       "    </tr>\n",
       "    <tr>\n",
       "      <th>...</th>\n",
       "      <td>...</td>\n",
       "      <td>...</td>\n",
       "      <td>...</td>\n",
       "      <td>...</td>\n",
       "      <td>...</td>\n",
       "      <td>...</td>\n",
       "      <td>...</td>\n",
       "      <td>...</td>\n",
       "      <td>...</td>\n",
       "    </tr>\n",
       "    <tr>\n",
       "      <th>63</th>\n",
       "      <td>916</td>\n",
       "      <td>San Ardo</td>\n",
       "      <td>554</td>\n",
       "      <td>64476</td>\n",
       "      <td>San Ardo</td>\n",
       "      <td>0.45</td>\n",
       "      <td>San Ardo CDP</td>\n",
       "      <td>1231.11</td>\n",
       "      <td>14.0</td>\n",
       "    </tr>\n",
       "    <tr>\n",
       "      <th>64</th>\n",
       "      <td>1454</td>\n",
       "      <td>Ferndale</td>\n",
       "      <td>1365</td>\n",
       "      <td>23910</td>\n",
       "      <td>Ferndale</td>\n",
       "      <td>1.03</td>\n",
       "      <td>Ferndale city</td>\n",
       "      <td>1325.24</td>\n",
       "      <td>13.0</td>\n",
       "    </tr>\n",
       "    <tr>\n",
       "      <th>65</th>\n",
       "      <td>132</td>\n",
       "      <td>Chowchilla</td>\n",
       "      <td>18533</td>\n",
       "      <td>13294</td>\n",
       "      <td>Chowchilla</td>\n",
       "      <td>11.09</td>\n",
       "      <td>Chowchilla city</td>\n",
       "      <td>1671.15</td>\n",
       "      <td>9.0</td>\n",
       "    </tr>\n",
       "    <tr>\n",
       "      <th>66</th>\n",
       "      <td>746</td>\n",
       "      <td>Fort Jones</td>\n",
       "      <td>832</td>\n",
       "      <td>25128</td>\n",
       "      <td>Fort Jones</td>\n",
       "      <td>0.60</td>\n",
       "      <td>Fort Jones city</td>\n",
       "      <td>1386.67</td>\n",
       "      <td>5.0</td>\n",
       "    </tr>\n",
       "    <tr>\n",
       "      <th>67</th>\n",
       "      <td>1136</td>\n",
       "      <td>Dorris</td>\n",
       "      <td>868</td>\n",
       "      <td>19584</td>\n",
       "      <td>Dorris</td>\n",
       "      <td>0.70</td>\n",
       "      <td>Dorris city</td>\n",
       "      <td>1240.00</td>\n",
       "      <td>2.0</td>\n",
       "    </tr>\n",
       "  </tbody>\n",
       "</table>\n",
       "<p>68 rows × 9 columns</p>\n",
       "</div>"
      ],
      "text/plain": [
       "    index         city  pop_2018_est  place       city_y  area_land  \\\n",
       "0     556      Yucaipa         53264  87042      Yucaipa      28.29   \n",
       "1     574    Lancaster        159662  40130    Lancaster      94.28   \n",
       "2    1169      Redding         91327  59920      Redding      59.65   \n",
       "3      14     Palmdale        156904  55156     Palmdale     106.08   \n",
       "4     980  San Jacinto         47474  67112  San Jacinto      25.71   \n",
       "..    ...          ...           ...    ...          ...        ...   \n",
       "63    916     San Ardo           554  64476     San Ardo       0.45   \n",
       "64   1454     Ferndale          1365  23910     Ferndale       1.03   \n",
       "65    132   Chowchilla         18533  13294   Chowchilla      11.09   \n",
       "66    746   Fort Jones           832  25128   Fort Jones       0.60   \n",
       "67   1136       Dorris           868  19584       Dorris       0.70   \n",
       "\n",
       "          place_type  pop_density  mh_spaces  \n",
       "0       Yucaipa city      1882.79     4557.0  \n",
       "1     Lancaster city      1693.49     4177.0  \n",
       "2       Redding city      1531.05     2569.0  \n",
       "3      Palmdale city      1479.11     2098.0  \n",
       "4   San Jacinto city      1846.52     1846.0  \n",
       "..               ...          ...        ...  \n",
       "63      San Ardo CDP      1231.11       14.0  \n",
       "64     Ferndale city      1325.24       13.0  \n",
       "65   Chowchilla city      1671.15        9.0  \n",
       "66   Fort Jones city      1386.67        5.0  \n",
       "67       Dorris city      1240.00        2.0  \n",
       "\n",
       "[68 rows x 9 columns]"
      ]
     },
     "execution_count": 13,
     "metadata": {},
     "output_type": "execute_result"
    }
   ],
   "source": [
    "sort_compared_popdens_percentile = comparison_range_popdens_percentile.sort_values('mh_spaces', ascending= False).reset_index()\n",
    "sort_compared_popdens_percentile"
   ]
  },
  {
   "cell_type": "markdown",
   "id": "42e9f2cb-066d-417c-9a18-2adfb4fc2ea6",
   "metadata": {},
   "source": [
    "### Conclusions"
   ]
  },
  {
   "cell_type": "code",
   "execution_count": null,
   "id": "9149a8fe-c43c-4d36-83c7-05a1550d06bb",
   "metadata": {},
   "outputs": [],
   "source": []
  }
 ],
 "metadata": {
  "kernelspec": {
   "display_name": "Python 3 (ipykernel)",
   "language": "python",
   "name": "python3"
  },
  "language_info": {
   "codemirror_mode": {
    "name": "ipython",
    "version": 3
   },
   "file_extension": ".py",
   "mimetype": "text/x-python",
   "name": "python",
   "nbconvert_exporter": "python",
   "pygments_lexer": "ipython3",
   "version": "3.9.9"
  }
 },
 "nbformat": 4,
 "nbformat_minor": 5
}
