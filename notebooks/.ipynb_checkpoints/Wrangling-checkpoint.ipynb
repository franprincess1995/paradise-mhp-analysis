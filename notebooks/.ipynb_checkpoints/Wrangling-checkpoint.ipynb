{
 "cells": [
  {
   "cell_type": "markdown",
   "id": "0d91bd22-f11c-4b0e-ae7c-7568b0f3b5fc",
   "metadata": {},
   "source": [
    "### Data cleaning and wrangling: Mobile homes in Paradise, California"
   ]
  },
  {
   "cell_type": "markdown",
   "id": "56b632b1-5747-42e2-9a87-c5112bbb9d91",
   "metadata": {},
   "source": [
    "#### By Kavish Harjai"
   ]
  },
  {
   "cell_type": "markdown",
   "id": "ad03f91c-a1e5-4c5a-86a2-001057840654",
   "metadata": {},
   "source": [
    "**Question**\n",
    "\n",
    "How does the number of mobile home lots in Paradise, California, compare to the number of mobile home lots in other cities in California with a similar population density?\n",
    "\n",
    "**Datasets**\n",
    "\n",
    "This project uses three datasets, including:\n",
    "\n",
    "* Mobile home parks permitted by the [California Housing and Community Development Department.](https://casas.hcd.ca.gov/casas/cmirMp/onlineQuery)\n",
    "* Population estimates by place in California from the 2018 ACS 5-year-estimates (via API).\n",
    "* [California places geography.](https://www.census.gov/geographies/mapping-files/time-series/geo/tiger-line-file.2018.html)\n",
    "\n",
    "**Methodology**\n",
    "\n",
    "1. Clean mobile home dataset\n",
    "2. Acquire population data from ACS using Census API\n",
    "3. Use geography dataset to calculate population density\n",
    "4. Merge datasets together, resulting in a population density calculation for every California city in 2018"
   ]
  },
  {
   "cell_type": "code",
   "execution_count": 2,
   "id": "26741de7-a11b-4911-b81d-8909a0f475a4",
   "metadata": {},
   "outputs": [],
   "source": [
    "import pandas as pd \n",
    "import numpy as np\n",
    "import os as os\n",
    "import requests\n",
    "from pprint import pprint"
   ]
  },
  {
   "cell_type": "code",
   "execution_count": 3,
   "id": "bc6fc9c6-8035-4c0d-a5d1-a8e43667f723",
   "metadata": {},
   "outputs": [],
   "source": [
    "data_dir = os.environ[\"DATA_DIR\"]\n",
    "raw_data = data_dir + \"/raw/\"\n",
    "processed_data = data_dir + '/processed/'"
   ]
  },
  {
   "cell_type": "code",
   "execution_count": 4,
   "id": "dfe167da-295d-4e93-82dc-827fd8faff4c",
   "metadata": {
    "tags": []
   },
   "outputs": [
    {
     "data": {
      "text/html": [
       "<div>\n",
       "<style scoped>\n",
       "    .dataframe tbody tr th:only-of-type {\n",
       "        vertical-align: middle;\n",
       "    }\n",
       "\n",
       "    .dataframe tbody tr th {\n",
       "        vertical-align: top;\n",
       "    }\n",
       "\n",
       "    .dataframe thead th {\n",
       "        text-align: right;\n",
       "    }\n",
       "</style>\n",
       "<table border=\"1\" class=\"dataframe\">\n",
       "  <thead>\n",
       "    <tr style=\"text-align: right;\">\n",
       "      <th></th>\n",
       "      <th>Park Name</th>\n",
       "      <th>County</th>\n",
       "      <th>Park Identifier</th>\n",
       "      <th>Park Address</th>\n",
       "      <th>Fire Authority</th>\n",
       "      <th>Jurisdiction</th>\n",
       "      <th>MH Spaces</th>\n",
       "      <th>RV Lots W/Drains</th>\n",
       "      <th>RV Lots W/O Drains</th>\n",
       "      <th>Operated by</th>\n",
       "      <th>ADDRESS</th>\n",
       "    </tr>\n",
       "  </thead>\n",
       "  <tbody>\n",
       "    <tr>\n",
       "      <th>0</th>\n",
       "      <td>SPANISH RANCH II</td>\n",
       "      <td>ALAMEDA</td>\n",
       "      <td>01-0001-MP</td>\n",
       "      <td>121 RANCHERO WAY, HAYWARD, CA 94544, (510) 886...</td>\n",
       "      <td>HCD - NORTHERN AREA OFFICE, 9342 TECH CENTER D...</td>\n",
       "      <td>HCD - NORTHERN AREA OFFICE, 9342 TECH CENTER D...</td>\n",
       "      <td>187.0</td>\n",
       "      <td>0.0</td>\n",
       "      <td>0.0</td>\n",
       "      <td>HOMETOWN SPANISH RANCH, LLC, A DELAWARE LIMITE...</td>\n",
       "      <td>121 RANCHERO WAY, HAYWARD, CA 94544, (510) 886...</td>\n",
       "    </tr>\n",
       "    <tr>\n",
       "      <th>1</th>\n",
       "      <td>GEORGIAN MANOR MHP</td>\n",
       "      <td>ALAMEDA</td>\n",
       "      <td>01-0003-MP</td>\n",
       "      <td>1419 BUCKINGHAM WAY, HAYWARD, CA 94544, (510) ...</td>\n",
       "      <td>HCD - NORTHERN AREA OFFICE, 9342 TECH CENTER D...</td>\n",
       "      <td>HCD - NORTHERN AREA OFFICE, 9342 TECH CENTER D...</td>\n",
       "      <td>265.0</td>\n",
       "      <td>0.0</td>\n",
       "      <td>0.0</td>\n",
       "      <td>GEORGIAN MANOR MOBILEHOME PARK L P, 321 HARTZ ...</td>\n",
       "      <td>1419 BUCKINGHAM WAY, HAYWARD, CA 94544, (510) ...</td>\n",
       "    </tr>\n",
       "    <tr>\n",
       "      <th>2</th>\n",
       "      <td>BAL TRAILER CT</td>\n",
       "      <td>ALAMEDA</td>\n",
       "      <td>01-0008-MP</td>\n",
       "      <td>14831 BANCROFT AVE, SAN LEANDRO, CA 94578, (51...</td>\n",
       "      <td>HCD - NORTHERN AREA OFFICE, 9342 TECH CENTER D...</td>\n",
       "      <td>HCD - NORTHERN AREA OFFICE, 9342 TECH CENTER D...</td>\n",
       "      <td>31.0</td>\n",
       "      <td>0.0</td>\n",
       "      <td>0.0</td>\n",
       "      <td>PUEBLO SPRINGS MHP LTD, 10351 SANTA MONICA BLV...</td>\n",
       "      <td>14831 BANCROFT AVE, SAN LEANDRO, CA 94578, (51...</td>\n",
       "    </tr>\n",
       "    <tr>\n",
       "      <th>3</th>\n",
       "      <td>VASCO MHP</td>\n",
       "      <td>ALAMEDA</td>\n",
       "      <td>01-0010-MP</td>\n",
       "      <td>6539 S FRONT RD, LIVERMORE, CA 94550, (925) 44...</td>\n",
       "      <td>HCD - NORTHERN AREA OFFICE, 9342 TECH CENTER D...</td>\n",
       "      <td>HCD - NORTHERN AREA OFFICE, 9342 TECH CENTER D...</td>\n",
       "      <td>50.0</td>\n",
       "      <td>21.0</td>\n",
       "      <td>0.0</td>\n",
       "      <td>SOLOMON/MANDEL, EDWARD/GEORGE, PO BOX 406, ALA...</td>\n",
       "      <td>6539 S FRONT RD, LIVERMORE, CA 94550, (925) 44...</td>\n",
       "    </tr>\n",
       "    <tr>\n",
       "      <th>4</th>\n",
       "      <td>AVALON MOBILE HOME PARK</td>\n",
       "      <td>ALAMEDA</td>\n",
       "      <td>01-0013-MP</td>\n",
       "      <td>3970 CASTRO VALLEY BLVD, CASTRO VALLEY, CA 945...</td>\n",
       "      <td>HCD - NORTHERN AREA OFFICE, 9342 TECH CENTER D...</td>\n",
       "      <td>HCD - NORTHERN AREA OFFICE, 9342 TECH CENTER D...</td>\n",
       "      <td>49.0</td>\n",
       "      <td>0.0</td>\n",
       "      <td>0.0</td>\n",
       "      <td>AVALON MHP INC, 4061 EAST CASTRO VALLEY BLVD S...</td>\n",
       "      <td>3970 CASTRO VALLEY BLVD, CASTRO VALLEY, CA 945...</td>\n",
       "    </tr>\n",
       "  </tbody>\n",
       "</table>\n",
       "</div>"
      ],
      "text/plain": [
       "                 Park Name   County Park Identifier  \\\n",
       "0         SPANISH RANCH II  ALAMEDA      01-0001-MP   \n",
       "1       GEORGIAN MANOR MHP  ALAMEDA      01-0003-MP   \n",
       "2           BAL TRAILER CT  ALAMEDA      01-0008-MP   \n",
       "3                VASCO MHP  ALAMEDA      01-0010-MP   \n",
       "4  AVALON MOBILE HOME PARK  ALAMEDA      01-0013-MP   \n",
       "\n",
       "                                        Park Address  \\\n",
       "0  121 RANCHERO WAY, HAYWARD, CA 94544, (510) 886...   \n",
       "1  1419 BUCKINGHAM WAY, HAYWARD, CA 94544, (510) ...   \n",
       "2  14831 BANCROFT AVE, SAN LEANDRO, CA 94578, (51...   \n",
       "3  6539 S FRONT RD, LIVERMORE, CA 94550, (925) 44...   \n",
       "4  3970 CASTRO VALLEY BLVD, CASTRO VALLEY, CA 945...   \n",
       "\n",
       "                                      Fire Authority  \\\n",
       "0  HCD - NORTHERN AREA OFFICE, 9342 TECH CENTER D...   \n",
       "1  HCD - NORTHERN AREA OFFICE, 9342 TECH CENTER D...   \n",
       "2  HCD - NORTHERN AREA OFFICE, 9342 TECH CENTER D...   \n",
       "3  HCD - NORTHERN AREA OFFICE, 9342 TECH CENTER D...   \n",
       "4  HCD - NORTHERN AREA OFFICE, 9342 TECH CENTER D...   \n",
       "\n",
       "                                        Jurisdiction  MH Spaces  \\\n",
       "0  HCD - NORTHERN AREA OFFICE, 9342 TECH CENTER D...      187.0   \n",
       "1  HCD - NORTHERN AREA OFFICE, 9342 TECH CENTER D...      265.0   \n",
       "2  HCD - NORTHERN AREA OFFICE, 9342 TECH CENTER D...       31.0   \n",
       "3  HCD - NORTHERN AREA OFFICE, 9342 TECH CENTER D...       50.0   \n",
       "4  HCD - NORTHERN AREA OFFICE, 9342 TECH CENTER D...       49.0   \n",
       "\n",
       "   RV Lots W/Drains  RV Lots W/O Drains  \\\n",
       "0               0.0                 0.0   \n",
       "1               0.0                 0.0   \n",
       "2               0.0                 0.0   \n",
       "3              21.0                 0.0   \n",
       "4               0.0                 0.0   \n",
       "\n",
       "                                         Operated by  \\\n",
       "0  HOMETOWN SPANISH RANCH, LLC, A DELAWARE LIMITE...   \n",
       "1  GEORGIAN MANOR MOBILEHOME PARK L P, 321 HARTZ ...   \n",
       "2  PUEBLO SPRINGS MHP LTD, 10351 SANTA MONICA BLV...   \n",
       "3  SOLOMON/MANDEL, EDWARD/GEORGE, PO BOX 406, ALA...   \n",
       "4  AVALON MHP INC, 4061 EAST CASTRO VALLEY BLVD S...   \n",
       "\n",
       "                                             ADDRESS  \n",
       "0  121 RANCHERO WAY, HAYWARD, CA 94544, (510) 886...  \n",
       "1  1419 BUCKINGHAM WAY, HAYWARD, CA 94544, (510) ...  \n",
       "2  14831 BANCROFT AVE, SAN LEANDRO, CA 94578, (51...  \n",
       "3  6539 S FRONT RD, LIVERMORE, CA 94550, (925) 44...  \n",
       "4  3970 CASTRO VALLEY BLVD, CASTRO VALLEY, CA 945...  "
      ]
     },
     "execution_count": 4,
     "metadata": {},
     "output_type": "execute_result"
    }
   ],
   "source": [
    "list_of_parks = pd.read_csv(raw_data + 'MH_parks.csv')\n",
    "list_of_parks.head()"
   ]
  },
  {
   "cell_type": "markdown",
   "id": "f1065f06-1900-4707-a6ac-12bb56775f98",
   "metadata": {},
   "source": [
    "Standardize column names. "
   ]
  },
  {
   "cell_type": "code",
   "execution_count": 5,
   "id": "39702d0f-be8c-4349-bfee-d8c334796fe4",
   "metadata": {},
   "outputs": [],
   "source": [
    "list_of_parks.columns = list_of_parks.columns.str.replace(' ','_').str.replace('/', '').str.lower()"
   ]
  },
  {
   "cell_type": "markdown",
   "id": "eb1b8a12-fb3b-477c-a55b-8e62b433574c",
   "metadata": {},
   "source": [
    "The mobile home dataset contains information about RV parks, which are irrelevant to the analysis. Remove those instances by dropping all rows where ```mh_spaces``` is equal to 0 or null. "
   ]
  },
  {
   "cell_type": "code",
   "execution_count": 6,
   "id": "13130cc9-11fb-4843-b691-cf1aa67de20f",
   "metadata": {},
   "outputs": [],
   "source": [
    "list_of_parks = list_of_parks[(list_of_parks.mh_spaces != 0) & (~list_of_parks.mh_spaces.isna())]"
   ]
  },
  {
   "cell_type": "code",
   "execution_count": 7,
   "id": "e2f6fa3f-64be-4525-a693-e19334393c5b",
   "metadata": {},
   "outputs": [
    {
     "data": {
      "text/plain": [
       "4667"
      ]
     },
     "execution_count": 7,
     "metadata": {},
     "output_type": "execute_result"
    }
   ],
   "source": [
    "len(list_of_parks)"
   ]
  },
  {
   "cell_type": "markdown",
   "id": "a204d3d5-ade4-4321-9b77-0efec95bfbef",
   "metadata": {},
   "source": [
    "Make new columns from street address, city, state and phone number information currently in ```park_address``` column."
   ]
  },
  {
   "cell_type": "code",
   "execution_count": 8,
   "id": "6fb1afe5-cbe8-48cb-969a-9ba0925386ba",
   "metadata": {},
   "outputs": [],
   "source": [
    "list_of_parks['park_address'] = list_of_parks.park_address.str.title()"
   ]
  },
  {
   "cell_type": "code",
   "execution_count": 9,
   "id": "ae8b86fc-7ee9-4d6e-a06e-1d9fc786c382",
   "metadata": {},
   "outputs": [],
   "source": [
    "list_of_parks[['street_add', 'city', 'state_zip', 'phone_num']] = list_of_parks['park_address'].str.split(',', n = 3, expand=True)"
   ]
  },
  {
   "cell_type": "code",
   "execution_count": 10,
   "id": "38a8d12c-7f45-47a0-879e-1f2b668460d2",
   "metadata": {},
   "outputs": [],
   "source": [
    "list_of_parks['city'] = list_of_parks['city'].str.lstrip(' ')\n",
    "list_of_parks[['state', 'zip']] = list_of_parks['state_zip'].str.split(expand=True)\n",
    "list_of_parks['state'] = list_of_parks.state.str.upper()"
   ]
  },
  {
   "cell_type": "markdown",
   "id": "a2fd6221-1d91-481c-bbb6-c821e9d00232",
   "metadata": {},
   "source": [
    "Drop redundant columns."
   ]
  },
  {
   "cell_type": "code",
   "execution_count": 11,
   "id": "303378b4-1574-480e-aa10-054c04bc1e09",
   "metadata": {},
   "outputs": [],
   "source": [
    "list_of_parks = list_of_parks.drop(['address',\n",
    "                                   'state_zip'], axis=1)"
   ]
  },
  {
   "cell_type": "markdown",
   "id": "6c5777f0-49e8-4799-aa0d-fc01002fb959",
   "metadata": {},
   "source": [
    "Group dataframe by city and sum the number of mobile home lots in each."
   ]
  },
  {
   "cell_type": "code",
   "execution_count": 12,
   "id": "ce23eee0-ebb9-4cb1-a96b-f8ea74692315",
   "metadata": {},
   "outputs": [],
   "source": [
    "list_of_parks_grouped = list_of_parks.groupby('city').mh_spaces.sum().reset_index().sort_values('mh_spaces')"
   ]
  },
  {
   "cell_type": "markdown",
   "id": "a7cad711-3970-4d78-ad71-f384d592b710",
   "metadata": {},
   "source": [
    "Export grouped and full dataframes. "
   ]
  },
  {
   "cell_type": "code",
   "execution_count": 13,
   "id": "87546b88-490b-4601-bf31-76d00a7a69f5",
   "metadata": {},
   "outputs": [],
   "source": [
    "list_of_parks_grouped.to_csv(processed_data + 'mh_parks_grouped.csv', index=False)\n",
    "list_of_parks.to_csv(processed_data + 'mh_parks_full_clean.csv', index=False)"
   ]
  },
  {
   "cell_type": "markdown",
   "id": "c6b7850c-cea1-44c2-ac92-0a4e2a70ffa1",
   "metadata": {},
   "source": [
    "#### Acquire 2018 ACS population estimates"
   ]
  },
  {
   "cell_type": "markdown",
   "id": "74e6f431-c368-4aba-bc20-604721e0d4d1",
   "metadata": {},
   "source": [
    "Build API call, where:\n",
    "- ```dsource``` indicates the data source. \n",
    "- ```dname``` differentiates between survey types.\n",
    "- ```chart``` indicates the specific data from the survey.\n",
    "- ```geo``` specifies the geography level .\n",
    "\n",
    "The table that's called via API can be viewed [here.](https://data.census.gov/table?g=040XX00US06&d=ACS+5-Year+Estimates+Data+Profiles&tid=ACSDP5Y2018.DP05)"
   ]
  },
  {
   "cell_type": "code",
   "execution_count": 14,
   "id": "842f9dff-ac74-481c-a04a-69b9be46893d",
   "metadata": {},
   "outputs": [],
   "source": [
    "dsource = 'acs' #American Community Survey\n",
    "dname = 'acs5'#American Community Survey, 5-year-estimates\n",
    "year=2018\n",
    "base_url = f'https://api.census.gov/data/{year}/{dsource}/{dname}/profile'\n",
    "chart = 'DP05_0001E' #population estimates data\n",
    "state = '06' #California FIPS code\n",
    "geo='place'\n",
    "api_key = os.environ[\"CENSUS_API_KEY\"]\n",
    "data_url = f'{base_url}?get=NAME,{chart}&for={geo}:*&in=state:{state}&key={api_key}'\n",
    "response=requests.get(data_url)\n",
    "json=response.json()"
   ]
  },
  {
   "cell_type": "markdown",
   "id": "00d1b094-0e98-40a4-8959-849eb1ee0a36",
   "metadata": {},
   "source": [
    "Convert json object to dataframe. "
   ]
  },
  {
   "cell_type": "code",
   "execution_count": 16,
   "id": "21aa83d3-8b18-41e4-9b85-e7be8128982f",
   "metadata": {},
   "outputs": [],
   "source": [
    "population_by_place_name =pd.DataFrame(json[1:], columns=json[0]\n",
    "                              ).rename(columns={'NAME':'city',\n",
    "                                                'DP05_0001E':'pop_2018_est'}\n",
    "                                      ).drop(columns=['state']\n",
    "                                            )\n"
   ]
  },
  {
   "cell_type": "code",
   "execution_count": 17,
   "id": "0612bad8-096a-40bd-8158-3804b0ebc2b3",
   "metadata": {},
   "outputs": [
    {
     "name": "stdout",
     "output_type": "stream",
     "text": [
      "<class 'pandas.core.frame.DataFrame'>\n",
      "RangeIndex: 1521 entries, 0 to 1520\n",
      "Data columns (total 3 columns):\n",
      " #   Column        Non-Null Count  Dtype \n",
      "---  ------        --------------  ----- \n",
      " 0   city          1521 non-null   object\n",
      " 1   pop_2018_est  1521 non-null   object\n",
      " 2   place         1521 non-null   object\n",
      "dtypes: object(3)\n",
      "memory usage: 35.8+ KB\n"
     ]
    }
   ],
   "source": [
    "population_by_place_name.info()"
   ]
  },
  {
   "cell_type": "code",
   "execution_count": 18,
   "id": "e8bbc705-4c8e-464d-bffa-04f269caf159",
   "metadata": {},
   "outputs": [
    {
     "data": {
      "text/html": [
       "<div>\n",
       "<style scoped>\n",
       "    .dataframe tbody tr th:only-of-type {\n",
       "        vertical-align: middle;\n",
       "    }\n",
       "\n",
       "    .dataframe tbody tr th {\n",
       "        vertical-align: top;\n",
       "    }\n",
       "\n",
       "    .dataframe thead th {\n",
       "        text-align: right;\n",
       "    }\n",
       "</style>\n",
       "<table border=\"1\" class=\"dataframe\">\n",
       "  <thead>\n",
       "    <tr style=\"text-align: right;\">\n",
       "      <th></th>\n",
       "      <th>city</th>\n",
       "      <th>pop_2018_est</th>\n",
       "      <th>place</th>\n",
       "    </tr>\n",
       "  </thead>\n",
       "  <tbody>\n",
       "    <tr>\n",
       "      <th>0</th>\n",
       "      <td>Mead Valley CDP, California</td>\n",
       "      <td>19925</td>\n",
       "      <td>46646</td>\n",
       "    </tr>\n",
       "    <tr>\n",
       "      <th>1</th>\n",
       "      <td>Meridian CDP, California</td>\n",
       "      <td>405</td>\n",
       "      <td>46926</td>\n",
       "    </tr>\n",
       "    <tr>\n",
       "      <th>2</th>\n",
       "      <td>Mesa Verde CDP, California</td>\n",
       "      <td>584</td>\n",
       "      <td>47066</td>\n",
       "    </tr>\n",
       "    <tr>\n",
       "      <th>3</th>\n",
       "      <td>Mexican Colony CDP, California</td>\n",
       "      <td>363</td>\n",
       "      <td>47192</td>\n",
       "    </tr>\n",
       "    <tr>\n",
       "      <th>4</th>\n",
       "      <td>Midpines CDP, California</td>\n",
       "      <td>1396</td>\n",
       "      <td>47374</td>\n",
       "    </tr>\n",
       "    <tr>\n",
       "      <th>...</th>\n",
       "      <td>...</td>\n",
       "      <td>...</td>\n",
       "      <td>...</td>\n",
       "    </tr>\n",
       "    <tr>\n",
       "      <th>1516</th>\n",
       "      <td>Beverly Hills city, California</td>\n",
       "      <td>34362</td>\n",
       "      <td>06308</td>\n",
       "    </tr>\n",
       "    <tr>\n",
       "      <th>1517</th>\n",
       "      <td>Covina city, California</td>\n",
       "      <td>48403</td>\n",
       "      <td>16742</td>\n",
       "    </tr>\n",
       "    <tr>\n",
       "      <th>1518</th>\n",
       "      <td>Del Aire CDP, California</td>\n",
       "      <td>10065</td>\n",
       "      <td>18352</td>\n",
       "    </tr>\n",
       "    <tr>\n",
       "      <th>1519</th>\n",
       "      <td>Downey city, California</td>\n",
       "      <td>112901</td>\n",
       "      <td>19766</td>\n",
       "    </tr>\n",
       "    <tr>\n",
       "      <th>1520</th>\n",
       "      <td>Glendale city, California</td>\n",
       "      <td>200372</td>\n",
       "      <td>30000</td>\n",
       "    </tr>\n",
       "  </tbody>\n",
       "</table>\n",
       "<p>1521 rows × 3 columns</p>\n",
       "</div>"
      ],
      "text/plain": [
       "                                city pop_2018_est  place\n",
       "0        Mead Valley CDP, California        19925  46646\n",
       "1           Meridian CDP, California          405  46926\n",
       "2         Mesa Verde CDP, California          584  47066\n",
       "3     Mexican Colony CDP, California          363  47192\n",
       "4           Midpines CDP, California         1396  47374\n",
       "...                              ...          ...    ...\n",
       "1516  Beverly Hills city, California        34362  06308\n",
       "1517         Covina city, California        48403  16742\n",
       "1518        Del Aire CDP, California        10065  18352\n",
       "1519         Downey city, California       112901  19766\n",
       "1520       Glendale city, California       200372  30000\n",
       "\n",
       "[1521 rows x 3 columns]"
      ]
     },
     "execution_count": 18,
     "metadata": {},
     "output_type": "execute_result"
    }
   ],
   "source": [
    "population_by_place_name"
   ]
  },
  {
   "cell_type": "markdown",
   "id": "ebd41b18-e675-4db0-90f4-4a0a4696646d",
   "metadata": {},
   "source": [
    "Remove extraneous words that follow the name of places, like \"city,\" \"CDP,\" and \"town,\"\" as well as state name. This will be necessary to make a clean merge later. "
   ]
  },
  {
   "cell_type": "code",
   "execution_count": 33,
   "id": "fee59ffd-594d-44e4-89b9-81e58379d023",
   "metadata": {},
   "outputs": [],
   "source": [
    "population_by_place_name['city'] = population_by_place_name['city'].str.replace(' city','')\n",
    "population_by_place_name['city'] = population_by_place_name['city'].str.replace(' CDP','')\n",
    "population_by_place_name['city'] = population_by_place_name['city'].str.replace(' town','')\n",
    "population_by_place_name['city'] = population_by_place_name['city'].str.replace(', California','')"
   ]
  },
  {
   "cell_type": "markdown",
   "id": "4dd14685-cad8-4d42-bbd8-64cdff83c23d",
   "metadata": {},
   "source": [
    "Export."
   ]
  },
  {
   "cell_type": "code",
   "execution_count": 34,
   "id": "c1f254c8-42f8-47f6-9fad-18f31e3a4fed",
   "metadata": {},
   "outputs": [],
   "source": [
    "population_by_place_name.to_csv(processed_data + 'ca_cities_2018_ACS.csv', index=False)"
   ]
  },
  {
   "cell_type": "markdown",
   "id": "76a91624-a354-43a9-8925-251f049959e9",
   "metadata": {},
   "source": [
    "#### Clean California place shapefile"
   ]
  },
  {
   "cell_type": "markdown",
   "id": "b4fa01c3-83b8-478f-adf5-3b822e54e150",
   "metadata": {},
   "source": [
    "The most important columns in the shapefile for this analysis include:\n",
    "\n",
    "- ```NAME```, which is the place name.\n",
    "- ```ALAND```, which contains land area for the specified place. (denominator in population density calculation)\n",
    "- ```PLACEFP```, which indicates the place FIPS code."
   ]
  },
  {
   "cell_type": "code",
   "execution_count": 35,
   "id": "89a7da85-cb61-4f2a-b29d-cf96f1e90560",
   "metadata": {},
   "outputs": [],
   "source": [
    "places_geo = pd.read_csv(raw_data + 'ca_place_geo_2018.csv', dtype=str)"
   ]
  },
  {
   "cell_type": "code",
   "execution_count": 36,
   "id": "ab938a9f-a4f8-45c8-b936-c9a21c91ff03",
   "metadata": {},
   "outputs": [],
   "source": [
    "places_geo = places_geo[['NAME', 'ALAND', 'PLACEFP', 'NAMELSAD']]"
   ]
  },
  {
   "cell_type": "code",
   "execution_count": 37,
   "id": "2024b77f-f48c-45e5-8b5c-27a94aa36aa0",
   "metadata": {},
   "outputs": [],
   "source": [
    "places_geo.rename(columns={'NAME':'city',\n",
    "                          'ALAND':'area_land',\n",
    "                          'PLACEFP': 'place',\n",
    "                          'NAMELSAD': 'place_type'}, inplace=True)"
   ]
  },
  {
   "cell_type": "markdown",
   "id": "58afd18b-b59f-49c9-8eb8-2143dc731869",
   "metadata": {},
   "source": [
    "### Merging"
   ]
  },
  {
   "cell_type": "markdown",
   "id": "b1c27d50-d6ff-42de-bf79-4847a1f9d706",
   "metadata": {},
   "source": [
    "Join ACS population estimates with place geography dataset on common column ```place```, which reflects place FIPS code. This merged dataframe will be used to calculate population density. "
   ]
  },
  {
   "cell_type": "code",
   "execution_count": 38,
   "id": "d084887d-8d4f-4550-82e2-68fe42ed1067",
   "metadata": {},
   "outputs": [],
   "source": [
    "merged = pd.merge(population_by_place_name, places_geo, on='place', how='outer')"
   ]
  },
  {
   "cell_type": "code",
   "execution_count": 39,
   "id": "3dc449d4-350b-4952-b9e8-df71d92afc7a",
   "metadata": {},
   "outputs": [],
   "source": [
    "merged = merged.rename(columns={'city_x':'city'})"
   ]
  },
  {
   "cell_type": "markdown",
   "id": "9ebb0f24-3fc1-4a7a-872b-d4fef606805c",
   "metadata": {},
   "source": [
    "Check for nulls."
   ]
  },
  {
   "cell_type": "code",
   "execution_count": 40,
   "id": "751ff610-6955-4b4c-abbc-91d7ecc96254",
   "metadata": {},
   "outputs": [
    {
     "name": "stdout",
     "output_type": "stream",
     "text": [
      "<class 'pandas.core.frame.DataFrame'>\n",
      "Int64Index: 1521 entries, 0 to 1520\n",
      "Data columns (total 6 columns):\n",
      " #   Column        Non-Null Count  Dtype \n",
      "---  ------        --------------  ----- \n",
      " 0   city          1521 non-null   object\n",
      " 1   pop_2018_est  1521 non-null   object\n",
      " 2   place         1521 non-null   object\n",
      " 3   city_y        1521 non-null   object\n",
      " 4   area_land     1521 non-null   object\n",
      " 5   place_type    1521 non-null   object\n",
      "dtypes: object(6)\n",
      "memory usage: 83.2+ KB\n"
     ]
    }
   ],
   "source": [
    "merged.info()"
   ]
  },
  {
   "cell_type": "markdown",
   "id": "2dabe977-2ddc-4870-b57a-0a4c3b1a9992",
   "metadata": {},
   "source": [
    "```area_land``` reflects area in terms of square meters, per [the Census](https://www.census.gov/quickfacts/fact/note/US/LND110210#:~:text=Land%20area%20%2D%20an%20area%20measurement,MAF%2FTIGER%20Database%22). \n",
    "\n",
    "To convert to square miles, first change the data type of the ```population``` and ```area``` columns to integers. Then divide every ```area_land``` value by 2,589,988 to obtain area in terms of square miles."
   ]
  },
  {
   "cell_type": "code",
   "execution_count": 41,
   "id": "9508f25f-6fe3-421e-9f0d-b076d642a482",
   "metadata": {},
   "outputs": [],
   "source": [
    "merged['pop_2018_est'] = merged['pop_2018_est'].astype(int)"
   ]
  },
  {
   "cell_type": "code",
   "execution_count": 42,
   "id": "44424028-7076-44a7-b2ea-0e665ec8b8f0",
   "metadata": {},
   "outputs": [],
   "source": [
    "merged['area_land'] = merged['area_land'].astype(int)"
   ]
  },
  {
   "cell_type": "code",
   "execution_count": 43,
   "id": "f5c9961a-1434-4b64-999f-e0160119e73d",
   "metadata": {},
   "outputs": [],
   "source": [
    "merged['area_land'] = (merged['area_land'] / 2589988).round(2)"
   ]
  },
  {
   "cell_type": "markdown",
   "id": "988f8f9e-579f-4fb6-acbe-ff5a4f871799",
   "metadata": {},
   "source": [
    "Create new ```pop_density``` column by dividing population estimates by land area in square miles. "
   ]
  },
  {
   "cell_type": "code",
   "execution_count": 44,
   "id": "499a4d85-4b55-424a-98a4-3b39a59f292d",
   "metadata": {},
   "outputs": [],
   "source": [
    "merged['pop_density'] = (merged['pop_2018_est'] / merged['area_land']).round(2)"
   ]
  },
  {
   "cell_type": "markdown",
   "id": "a197b3f0-4ded-4aea-8788-c276c7ae31ab",
   "metadata": {},
   "source": [
    "Merge population dataset with grouped mobile home dataset. "
   ]
  },
  {
   "cell_type": "code",
   "execution_count": 47,
   "id": "8c6a0f7a-6908-44fe-adad-3d0face1f1ae",
   "metadata": {},
   "outputs": [],
   "source": [
    "mh_merge = pd.merge(merged, list_of_parks_grouped, on='city', how='left')"
   ]
  },
  {
   "cell_type": "markdown",
   "id": "ad2263ec-a688-4e2e-9f59-bc5bad8eb130",
   "metadata": {},
   "source": [
    "Export."
   ]
  },
  {
   "cell_type": "code",
   "execution_count": 48,
   "id": "dd6c444e-4603-4545-b398-2e5450902c2b",
   "metadata": {},
   "outputs": [],
   "source": [
    "mh_merge.to_csv(processed_data + 'mh_merge.csv', index=False)"
   ]
  }
 ],
 "metadata": {
  "kernelspec": {
   "display_name": "Python 3 (ipykernel)",
   "language": "python",
   "name": "python3"
  },
  "language_info": {
   "codemirror_mode": {
    "name": "ipython",
    "version": 3
   },
   "file_extension": ".py",
   "mimetype": "text/x-python",
   "name": "python",
   "nbconvert_exporter": "python",
   "pygments_lexer": "ipython3",
   "version": "3.9.9"
  }
 },
 "nbformat": 4,
 "nbformat_minor": 5
}
