{
 "cells": [
  {
   "cell_type": "markdown",
   "id": "0d91bd22-f11c-4b0e-ae7c-7568b0f3b5fc",
   "metadata": {},
   "source": [
    "# Wrangling - Looking Into How Parks in Paradise Compare to Cities of Similar Population Density"
   ]
  },
  {
   "cell_type": "markdown",
   "id": "56b632b1-5747-42e2-9a87-c5112bbb9d91",
   "metadata": {},
   "source": [
    "### By Kavish Harjai"
   ]
  },
  {
   "cell_type": "markdown",
   "id": "ad03f91c-a1e5-4c5a-86a2-001057840654",
   "metadata": {},
   "source": [
    "**I explore how the number of mobile home lots in Paradise compare to other cities with a similar population population density in 2018 (before the Camp Fire).** \n",
    "\n",
    "I chose to use population density in lieu of population because I am comparing smaller geographic areas (Census places). According to the [Census]('https://www.census.gov/newsroom/blogs/random-samplings/2015/03/understanding-population-density.html'):\n",
    "\n",
    "\"When comparing population density values for different geographic areas, then, it is helpful to keep in mind that the values are most useful for small areas, such as neighborhoods.\" \n",
    "\n",
    "To answer the above question, I will use two notebooks. This one is focused on **wrangling and merging**. The notebook called 'MH_paradise_analysis' is focused on **data analysis**. \n",
    "\n",
    "There are three datasets I use in this notebook:\n",
    "* List of mobile home parks permitted by the California Housing and Community Development Department. [Source.]('https://casas.hcd.ca.gov/casas/cmirMp/onlineQuery')\n",
    "* ACS 2018 5-year population estimates by place in California.\n",
    "* California place shapefile that I've exported as a .csv through ArcGIS. [Source.]('https://www.census.gov/geographies/mapping-files/time-series/geo/tiger-line-file.2018.html')\n",
    "\n",
    "The list of mobile home parks includes the number of lots in each park. I can calculate the population density by place using the ACS population estimates and the land area of each place in California. Then I merge the three datasets together before moving to the analysis notebook.\n",
    "\n",
    "I will start by importing necessary libraries and creating an folder paths for the datasets I've cleaned and would like to import/export."
   ]
  },
  {
   "cell_type": "code",
   "execution_count": 1,
   "id": "26741de7-a11b-4911-b81d-8909a0f475a4",
   "metadata": {},
   "outputs": [],
   "source": [
    "import pandas as pd \n",
    "import numpy as np\n",
    "import os as os\n",
    "import requests\n",
    "from pprint import pprint"
   ]
  },
  {
   "cell_type": "code",
   "execution_count": 4,
   "id": "bc6fc9c6-8035-4c0d-a5d1-a8e43667f723",
   "metadata": {},
   "outputs": [],
   "source": [
    "data_dir = os.environ[\"DATA_DIR\"]\n",
    "raw_data = data_dir + \"/raw/\"\n",
    "processed_data = data_dir + '/processed/'"
   ]
  },
  {
   "cell_type": "markdown",
   "id": "2b9980fd-e83a-4827-a481-7a1fdfdbb91a",
   "metadata": {},
   "source": [
    "#### Cleaning MH dataseta"
   ]
  },
  {
   "cell_type": "code",
   "execution_count": 5,
   "id": "dfe167da-295d-4e93-82dc-827fd8faff4c",
   "metadata": {
    "collapsed": true,
    "jupyter": {
     "outputs_hidden": true
    },
    "tags": []
   },
   "outputs": [
    {
     "data": {
      "text/html": [
       "<div>\n",
       "<style scoped>\n",
       "    .dataframe tbody tr th:only-of-type {\n",
       "        vertical-align: middle;\n",
       "    }\n",
       "\n",
       "    .dataframe tbody tr th {\n",
       "        vertical-align: top;\n",
       "    }\n",
       "\n",
       "    .dataframe thead th {\n",
       "        text-align: right;\n",
       "    }\n",
       "</style>\n",
       "<table border=\"1\" class=\"dataframe\">\n",
       "  <thead>\n",
       "    <tr style=\"text-align: right;\">\n",
       "      <th></th>\n",
       "      <th>Park Name</th>\n",
       "      <th>County</th>\n",
       "      <th>Park Identifier</th>\n",
       "      <th>Park Address</th>\n",
       "      <th>Fire Authority</th>\n",
       "      <th>Jurisdiction</th>\n",
       "      <th>MH Spaces</th>\n",
       "      <th>RV Lots W/Drains</th>\n",
       "      <th>RV Lots W/O Drains</th>\n",
       "      <th>Operated by</th>\n",
       "      <th>ADDRESS</th>\n",
       "    </tr>\n",
       "  </thead>\n",
       "  <tbody>\n",
       "    <tr>\n",
       "      <th>0</th>\n",
       "      <td>SPANISH RANCH II</td>\n",
       "      <td>ALAMEDA</td>\n",
       "      <td>01-0001-MP</td>\n",
       "      <td>121 RANCHERO WAY, HAYWARD, CA 94544, (510) 886...</td>\n",
       "      <td>HCD - NORTHERN AREA OFFICE, 9342 TECH CENTER D...</td>\n",
       "      <td>HCD - NORTHERN AREA OFFICE, 9342 TECH CENTER D...</td>\n",
       "      <td>187.0</td>\n",
       "      <td>0.0</td>\n",
       "      <td>0.0</td>\n",
       "      <td>HOMETOWN SPANISH RANCH, LLC, A DELAWARE LIMITE...</td>\n",
       "      <td>121 RANCHERO WAY, HAYWARD, CA 94544, (510) 886...</td>\n",
       "    </tr>\n",
       "    <tr>\n",
       "      <th>1</th>\n",
       "      <td>GEORGIAN MANOR MHP</td>\n",
       "      <td>ALAMEDA</td>\n",
       "      <td>01-0003-MP</td>\n",
       "      <td>1419 BUCKINGHAM WAY, HAYWARD, CA 94544, (510) ...</td>\n",
       "      <td>HCD - NORTHERN AREA OFFICE, 9342 TECH CENTER D...</td>\n",
       "      <td>HCD - NORTHERN AREA OFFICE, 9342 TECH CENTER D...</td>\n",
       "      <td>265.0</td>\n",
       "      <td>0.0</td>\n",
       "      <td>0.0</td>\n",
       "      <td>GEORGIAN MANOR MOBILEHOME PARK L P, 321 HARTZ ...</td>\n",
       "      <td>1419 BUCKINGHAM WAY, HAYWARD, CA 94544, (510) ...</td>\n",
       "    </tr>\n",
       "    <tr>\n",
       "      <th>2</th>\n",
       "      <td>BAL TRAILER CT</td>\n",
       "      <td>ALAMEDA</td>\n",
       "      <td>01-0008-MP</td>\n",
       "      <td>14831 BANCROFT AVE, SAN LEANDRO, CA 94578, (51...</td>\n",
       "      <td>HCD - NORTHERN AREA OFFICE, 9342 TECH CENTER D...</td>\n",
       "      <td>HCD - NORTHERN AREA OFFICE, 9342 TECH CENTER D...</td>\n",
       "      <td>31.0</td>\n",
       "      <td>0.0</td>\n",
       "      <td>0.0</td>\n",
       "      <td>PUEBLO SPRINGS MHP LTD, 10351 SANTA MONICA BLV...</td>\n",
       "      <td>14831 BANCROFT AVE, SAN LEANDRO, CA 94578, (51...</td>\n",
       "    </tr>\n",
       "    <tr>\n",
       "      <th>3</th>\n",
       "      <td>VASCO MHP</td>\n",
       "      <td>ALAMEDA</td>\n",
       "      <td>01-0010-MP</td>\n",
       "      <td>6539 S FRONT RD, LIVERMORE, CA 94550, (925) 44...</td>\n",
       "      <td>HCD - NORTHERN AREA OFFICE, 9342 TECH CENTER D...</td>\n",
       "      <td>HCD - NORTHERN AREA OFFICE, 9342 TECH CENTER D...</td>\n",
       "      <td>50.0</td>\n",
       "      <td>21.0</td>\n",
       "      <td>0.0</td>\n",
       "      <td>SOLOMON/MANDEL, EDWARD/GEORGE, PO BOX 406, ALA...</td>\n",
       "      <td>6539 S FRONT RD, LIVERMORE, CA 94550, (925) 44...</td>\n",
       "    </tr>\n",
       "    <tr>\n",
       "      <th>4</th>\n",
       "      <td>AVALON MOBILE HOME PARK</td>\n",
       "      <td>ALAMEDA</td>\n",
       "      <td>01-0013-MP</td>\n",
       "      <td>3970 CASTRO VALLEY BLVD, CASTRO VALLEY, CA 945...</td>\n",
       "      <td>HCD - NORTHERN AREA OFFICE, 9342 TECH CENTER D...</td>\n",
       "      <td>HCD - NORTHERN AREA OFFICE, 9342 TECH CENTER D...</td>\n",
       "      <td>49.0</td>\n",
       "      <td>0.0</td>\n",
       "      <td>0.0</td>\n",
       "      <td>AVALON MHP INC, 4061 EAST CASTRO VALLEY BLVD S...</td>\n",
       "      <td>3970 CASTRO VALLEY BLVD, CASTRO VALLEY, CA 945...</td>\n",
       "    </tr>\n",
       "  </tbody>\n",
       "</table>\n",
       "</div>"
      ],
      "text/plain": [
       "                 Park Name   County Park Identifier  \\\n",
       "0         SPANISH RANCH II  ALAMEDA      01-0001-MP   \n",
       "1       GEORGIAN MANOR MHP  ALAMEDA      01-0003-MP   \n",
       "2           BAL TRAILER CT  ALAMEDA      01-0008-MP   \n",
       "3                VASCO MHP  ALAMEDA      01-0010-MP   \n",
       "4  AVALON MOBILE HOME PARK  ALAMEDA      01-0013-MP   \n",
       "\n",
       "                                        Park Address  \\\n",
       "0  121 RANCHERO WAY, HAYWARD, CA 94544, (510) 886...   \n",
       "1  1419 BUCKINGHAM WAY, HAYWARD, CA 94544, (510) ...   \n",
       "2  14831 BANCROFT AVE, SAN LEANDRO, CA 94578, (51...   \n",
       "3  6539 S FRONT RD, LIVERMORE, CA 94550, (925) 44...   \n",
       "4  3970 CASTRO VALLEY BLVD, CASTRO VALLEY, CA 945...   \n",
       "\n",
       "                                      Fire Authority  \\\n",
       "0  HCD - NORTHERN AREA OFFICE, 9342 TECH CENTER D...   \n",
       "1  HCD - NORTHERN AREA OFFICE, 9342 TECH CENTER D...   \n",
       "2  HCD - NORTHERN AREA OFFICE, 9342 TECH CENTER D...   \n",
       "3  HCD - NORTHERN AREA OFFICE, 9342 TECH CENTER D...   \n",
       "4  HCD - NORTHERN AREA OFFICE, 9342 TECH CENTER D...   \n",
       "\n",
       "                                        Jurisdiction  MH Spaces  \\\n",
       "0  HCD - NORTHERN AREA OFFICE, 9342 TECH CENTER D...      187.0   \n",
       "1  HCD - NORTHERN AREA OFFICE, 9342 TECH CENTER D...      265.0   \n",
       "2  HCD - NORTHERN AREA OFFICE, 9342 TECH CENTER D...       31.0   \n",
       "3  HCD - NORTHERN AREA OFFICE, 9342 TECH CENTER D...       50.0   \n",
       "4  HCD - NORTHERN AREA OFFICE, 9342 TECH CENTER D...       49.0   \n",
       "\n",
       "   RV Lots W/Drains  RV Lots W/O Drains  \\\n",
       "0               0.0                 0.0   \n",
       "1               0.0                 0.0   \n",
       "2               0.0                 0.0   \n",
       "3              21.0                 0.0   \n",
       "4               0.0                 0.0   \n",
       "\n",
       "                                         Operated by  \\\n",
       "0  HOMETOWN SPANISH RANCH, LLC, A DELAWARE LIMITE...   \n",
       "1  GEORGIAN MANOR MOBILEHOME PARK L P, 321 HARTZ ...   \n",
       "2  PUEBLO SPRINGS MHP LTD, 10351 SANTA MONICA BLV...   \n",
       "3  SOLOMON/MANDEL, EDWARD/GEORGE, PO BOX 406, ALA...   \n",
       "4  AVALON MHP INC, 4061 EAST CASTRO VALLEY BLVD S...   \n",
       "\n",
       "                                             ADDRESS  \n",
       "0  121 RANCHERO WAY, HAYWARD, CA 94544, (510) 886...  \n",
       "1  1419 BUCKINGHAM WAY, HAYWARD, CA 94544, (510) ...  \n",
       "2  14831 BANCROFT AVE, SAN LEANDRO, CA 94578, (51...  \n",
       "3  6539 S FRONT RD, LIVERMORE, CA 94550, (925) 44...  \n",
       "4  3970 CASTRO VALLEY BLVD, CASTRO VALLEY, CA 945...  "
      ]
     },
     "execution_count": 5,
     "metadata": {},
     "output_type": "execute_result"
    }
   ],
   "source": [
    "list_of_parks = pd.read_csv(raw_data + 'MH_parks.csv')\n",
    "list_of_parks.head()"
   ]
  },
  {
   "cell_type": "markdown",
   "id": "f1065f06-1900-4707-a6ac-12bb56775f98",
   "metadata": {},
   "source": [
    "**I will start by standardizing column names so there aren't spaces between words.**"
   ]
  },
  {
   "cell_type": "code",
   "execution_count": 7,
   "id": "39702d0f-be8c-4349-bfee-d8c334796fe4",
   "metadata": {},
   "outputs": [],
   "source": [
    "list_of_parks = list_of_parks.rename(columns = {'Park Name': 'park_name',\n",
    "                                                'County':'county',\n",
    "                                              'Park Identifier': 'park_identifier', \n",
    "                                              'Park Address': 'park_address', \n",
    "                                              'MH Spaces': 'mh_spaces', \n",
    "                                              'Fire Authority': 'fire_authority', \n",
    "                                              'Jurisdiction': 'jurisdiction',\n",
    "                                             'RV Lots W/Drains': 'rv_lots_drains',\n",
    "                                             'RV Lots W/O Drains': 'rv_lots_no_drains',\n",
    "                                             'Operated by': 'operated_by',\n",
    "                                             'ADDRESS': 'operater_address'})"
   ]
  },
  {
   "cell_type": "markdown",
   "id": "eb1b8a12-fb3b-477c-a55b-8e62b433574c",
   "metadata": {},
   "source": [
    "**In addition to mobile homes, this dataset contains information on RV Parks.**\n",
    "\n",
    "**Since my analysis is focused on mobile homes, I will remove all observations where the value for MH_Spaces is 0.**"
   ]
  },
  {
   "cell_type": "code",
   "execution_count": 8,
   "id": "13130cc9-11fb-4843-b691-cf1aa67de20f",
   "metadata": {},
   "outputs": [],
   "source": [
    "list_of_parks = list_of_parks[list_of_parks.mh_spaces != 0]"
   ]
  },
  {
   "cell_type": "code",
   "execution_count": 9,
   "id": "e2f6fa3f-64be-4525-a693-e19334393c5b",
   "metadata": {},
   "outputs": [
    {
     "data": {
      "text/plain": [
       "4668"
      ]
     },
     "execution_count": 9,
     "metadata": {},
     "output_type": "execute_result"
    }
   ],
   "source": [
    "len(list_of_parks)"
   ]
  },
  {
   "cell_type": "markdown",
   "id": "7b8998c7-602c-4140-8d6d-ee6473d980c2",
   "metadata": {},
   "source": [
    "**After filtering my dataframe, I wanted to check out what kind of data types there are and whether there are columns that are missing a bunch of values.** "
   ]
  },
  {
   "cell_type": "code",
   "execution_count": 10,
   "id": "64aed638-3066-4346-94a2-913d4710bfac",
   "metadata": {},
   "outputs": [
    {
     "name": "stdout",
     "output_type": "stream",
     "text": [
      "<class 'pandas.core.frame.DataFrame'>\n",
      "Int64Index: 4668 entries, 0 to 5247\n",
      "Data columns (total 11 columns):\n",
      " #   Column             Non-Null Count  Dtype  \n",
      "---  ------             --------------  -----  \n",
      " 0   park_name          4668 non-null   object \n",
      " 1   county             4668 non-null   object \n",
      " 2   park_identifier    4668 non-null   object \n",
      " 3   park_address       4668 non-null   object \n",
      " 4   fire_authority     4668 non-null   object \n",
      " 5   jurisdiction       4668 non-null   object \n",
      " 6   mh_spaces          4667 non-null   float64\n",
      " 7   rv_lots_drains     4667 non-null   float64\n",
      " 8   rv_lots_no_drains  4667 non-null   float64\n",
      " 9   operated_by        4664 non-null   object \n",
      " 10  operater_address   4668 non-null   object \n",
      "dtypes: float64(3), object(8)\n",
      "memory usage: 437.6+ KB\n"
     ]
    }
   ],
   "source": [
    "list_of_parks.info()"
   ]
  },
  {
   "cell_type": "markdown",
   "id": "4410b369-ad01-42b8-ab8c-6c9c5d33c4c3",
   "metadata": {},
   "source": [
    "**It looks pretty good, but since I'm invested in checking out the amount of spaces in each park, I want to probably get rid of the observation where the value of MH_Spaces is null.**"
   ]
  },
  {
   "cell_type": "code",
   "execution_count": 11,
   "id": "bd2221ae-d9db-4084-9f94-41bc43810163",
   "metadata": {},
   "outputs": [
    {
     "data": {
      "text/html": [
       "<div>\n",
       "<style scoped>\n",
       "    .dataframe tbody tr th:only-of-type {\n",
       "        vertical-align: middle;\n",
       "    }\n",
       "\n",
       "    .dataframe tbody tr th {\n",
       "        vertical-align: top;\n",
       "    }\n",
       "\n",
       "    .dataframe thead th {\n",
       "        text-align: right;\n",
       "    }\n",
       "</style>\n",
       "<table border=\"1\" class=\"dataframe\">\n",
       "  <thead>\n",
       "    <tr style=\"text-align: right;\">\n",
       "      <th></th>\n",
       "      <th>park_name</th>\n",
       "      <th>county</th>\n",
       "      <th>park_identifier</th>\n",
       "      <th>park_address</th>\n",
       "      <th>fire_authority</th>\n",
       "      <th>jurisdiction</th>\n",
       "      <th>mh_spaces</th>\n",
       "      <th>rv_lots_drains</th>\n",
       "      <th>rv_lots_no_drains</th>\n",
       "      <th>operated_by</th>\n",
       "      <th>operater_address</th>\n",
       "    </tr>\n",
       "  </thead>\n",
       "  <tbody>\n",
       "    <tr>\n",
       "      <th>2982</th>\n",
       "      <td>8456 BRADSHAW ROAD (S.O.P. W/OUT P.T.O.)</td>\n",
       "      <td>SACRAMENTO</td>\n",
       "      <td>34-13586-MP</td>\n",
       "      <td>8456 BRADSHAW ROAD, ELK GROVE, CA 95624</td>\n",
       "      <td>HCD - NORTHERN AREA OFFICE, 9342 TECH CENTER D...</td>\n",
       "      <td>HCD - NORTHERN AREA OFFICE, 9342 TECH CENTER D...</td>\n",
       "      <td>NaN</td>\n",
       "      <td>NaN</td>\n",
       "      <td>NaN</td>\n",
       "      <td>NaN</td>\n",
       "      <td>8456 BRADSHAW ROAD, ELK GROVE, CA 95624</td>\n",
       "    </tr>\n",
       "  </tbody>\n",
       "</table>\n",
       "</div>"
      ],
      "text/plain": [
       "                                     park_name      county park_identifier  \\\n",
       "2982  8456 BRADSHAW ROAD (S.O.P. W/OUT P.T.O.)  SACRAMENTO     34-13586-MP   \n",
       "\n",
       "                                 park_address  \\\n",
       "2982  8456 BRADSHAW ROAD, ELK GROVE, CA 95624   \n",
       "\n",
       "                                         fire_authority  \\\n",
       "2982  HCD - NORTHERN AREA OFFICE, 9342 TECH CENTER D...   \n",
       "\n",
       "                                           jurisdiction  mh_spaces  \\\n",
       "2982  HCD - NORTHERN AREA OFFICE, 9342 TECH CENTER D...        NaN   \n",
       "\n",
       "      rv_lots_drains  rv_lots_no_drains operated_by  \\\n",
       "2982             NaN                NaN         NaN   \n",
       "\n",
       "                             operater_address  \n",
       "2982  8456 BRADSHAW ROAD, ELK GROVE, CA 95624  "
      ]
     },
     "execution_count": 11,
     "metadata": {},
     "output_type": "execute_result"
    }
   ],
   "source": [
    "list_of_parks[list_of_parks['mh_spaces'].isnull()]"
   ]
  },
  {
   "cell_type": "code",
   "execution_count": 12,
   "id": "986de7aa-7333-42b6-9a2a-40472eb78242",
   "metadata": {},
   "outputs": [],
   "source": [
    "list_of_parks = list_of_parks.drop(labels=2982, axis=0)"
   ]
  },
  {
   "cell_type": "markdown",
   "id": "0b1657a9-4cc9-4dfd-9262-14b0584296ea",
   "metadata": {},
   "source": [
    "**The 'park_address' column annoyingly contains the park phone number. Let me split that column into separate entities, and then rejoin on all the address components. I ultimately will only be interested in the city column.** "
   ]
  },
  {
   "cell_type": "code",
   "execution_count": 13,
   "id": "6fb1afe5-cbe8-48cb-969a-9ba0925386ba",
   "metadata": {},
   "outputs": [],
   "source": [
    "list_of_parks['park_address'] = list_of_parks.park_address.str.title()"
   ]
  },
  {
   "cell_type": "code",
   "execution_count": 14,
   "id": "2a2d6f50-b6d1-44cb-a8c6-41338df1c22e",
   "metadata": {},
   "outputs": [
    {
     "data": {
      "text/html": [
       "<div>\n",
       "<style scoped>\n",
       "    .dataframe tbody tr th:only-of-type {\n",
       "        vertical-align: middle;\n",
       "    }\n",
       "\n",
       "    .dataframe tbody tr th {\n",
       "        vertical-align: top;\n",
       "    }\n",
       "\n",
       "    .dataframe thead th {\n",
       "        text-align: right;\n",
       "    }\n",
       "</style>\n",
       "<table border=\"1\" class=\"dataframe\">\n",
       "  <thead>\n",
       "    <tr style=\"text-align: right;\">\n",
       "      <th></th>\n",
       "      <th>park_name</th>\n",
       "      <th>county</th>\n",
       "      <th>park_identifier</th>\n",
       "      <th>park_address</th>\n",
       "      <th>fire_authority</th>\n",
       "      <th>jurisdiction</th>\n",
       "      <th>mh_spaces</th>\n",
       "      <th>rv_lots_drains</th>\n",
       "      <th>rv_lots_no_drains</th>\n",
       "      <th>operated_by</th>\n",
       "      <th>operater_address</th>\n",
       "    </tr>\n",
       "  </thead>\n",
       "  <tbody>\n",
       "    <tr>\n",
       "      <th>0</th>\n",
       "      <td>SPANISH RANCH II</td>\n",
       "      <td>ALAMEDA</td>\n",
       "      <td>01-0001-MP</td>\n",
       "      <td>121 Ranchero Way, Hayward, Ca 94544, (510) 886...</td>\n",
       "      <td>HCD - NORTHERN AREA OFFICE, 9342 TECH CENTER D...</td>\n",
       "      <td>HCD - NORTHERN AREA OFFICE, 9342 TECH CENTER D...</td>\n",
       "      <td>187.0</td>\n",
       "      <td>0.0</td>\n",
       "      <td>0.0</td>\n",
       "      <td>HOMETOWN SPANISH RANCH, LLC, A DELAWARE LIMITE...</td>\n",
       "      <td>121 RANCHERO WAY, HAYWARD, CA 94544, (510) 886...</td>\n",
       "    </tr>\n",
       "    <tr>\n",
       "      <th>1</th>\n",
       "      <td>GEORGIAN MANOR MHP</td>\n",
       "      <td>ALAMEDA</td>\n",
       "      <td>01-0003-MP</td>\n",
       "      <td>1419 Buckingham Way, Hayward, Ca 94544, (510) ...</td>\n",
       "      <td>HCD - NORTHERN AREA OFFICE, 9342 TECH CENTER D...</td>\n",
       "      <td>HCD - NORTHERN AREA OFFICE, 9342 TECH CENTER D...</td>\n",
       "      <td>265.0</td>\n",
       "      <td>0.0</td>\n",
       "      <td>0.0</td>\n",
       "      <td>GEORGIAN MANOR MOBILEHOME PARK L P, 321 HARTZ ...</td>\n",
       "      <td>1419 BUCKINGHAM WAY, HAYWARD, CA 94544, (510) ...</td>\n",
       "    </tr>\n",
       "    <tr>\n",
       "      <th>2</th>\n",
       "      <td>BAL TRAILER CT</td>\n",
       "      <td>ALAMEDA</td>\n",
       "      <td>01-0008-MP</td>\n",
       "      <td>14831 Bancroft Ave, San Leandro, Ca 94578, (51...</td>\n",
       "      <td>HCD - NORTHERN AREA OFFICE, 9342 TECH CENTER D...</td>\n",
       "      <td>HCD - NORTHERN AREA OFFICE, 9342 TECH CENTER D...</td>\n",
       "      <td>31.0</td>\n",
       "      <td>0.0</td>\n",
       "      <td>0.0</td>\n",
       "      <td>PUEBLO SPRINGS MHP LTD, 10351 SANTA MONICA BLV...</td>\n",
       "      <td>14831 BANCROFT AVE, SAN LEANDRO, CA 94578, (51...</td>\n",
       "    </tr>\n",
       "    <tr>\n",
       "      <th>3</th>\n",
       "      <td>VASCO MHP</td>\n",
       "      <td>ALAMEDA</td>\n",
       "      <td>01-0010-MP</td>\n",
       "      <td>6539 S Front Rd, Livermore, Ca 94550, (925) 44...</td>\n",
       "      <td>HCD - NORTHERN AREA OFFICE, 9342 TECH CENTER D...</td>\n",
       "      <td>HCD - NORTHERN AREA OFFICE, 9342 TECH CENTER D...</td>\n",
       "      <td>50.0</td>\n",
       "      <td>21.0</td>\n",
       "      <td>0.0</td>\n",
       "      <td>SOLOMON/MANDEL, EDWARD/GEORGE, PO BOX 406, ALA...</td>\n",
       "      <td>6539 S FRONT RD, LIVERMORE, CA 94550, (925) 44...</td>\n",
       "    </tr>\n",
       "    <tr>\n",
       "      <th>4</th>\n",
       "      <td>AVALON MOBILE HOME PARK</td>\n",
       "      <td>ALAMEDA</td>\n",
       "      <td>01-0013-MP</td>\n",
       "      <td>3970 Castro Valley Blvd, Castro Valley, Ca 945...</td>\n",
       "      <td>HCD - NORTHERN AREA OFFICE, 9342 TECH CENTER D...</td>\n",
       "      <td>HCD - NORTHERN AREA OFFICE, 9342 TECH CENTER D...</td>\n",
       "      <td>49.0</td>\n",
       "      <td>0.0</td>\n",
       "      <td>0.0</td>\n",
       "      <td>AVALON MHP INC, 4061 EAST CASTRO VALLEY BLVD S...</td>\n",
       "      <td>3970 CASTRO VALLEY BLVD, CASTRO VALLEY, CA 945...</td>\n",
       "    </tr>\n",
       "    <tr>\n",
       "      <th>5</th>\n",
       "      <td>NEW ENGLAND VILLAGE</td>\n",
       "      <td>ALAMEDA</td>\n",
       "      <td>01-0015-MP</td>\n",
       "      <td>940 New England Village Dr, Hayward, Ca 94544,...</td>\n",
       "      <td>HCD - NORTHERN AREA OFFICE, 9342 TECH CENTER D...</td>\n",
       "      <td>HCD - NORTHERN AREA OFFICE, 9342 TECH CENTER D...</td>\n",
       "      <td>415.0</td>\n",
       "      <td>0.0</td>\n",
       "      <td>0.0</td>\n",
       "      <td>BRANDENBURG STAEDLER &amp; MOORE, 1122 WILLOW ST S...</td>\n",
       "      <td>940 NEW ENGLAND VILLAGE DR, HAYWARD, CA 94544,...</td>\n",
       "    </tr>\n",
       "    <tr>\n",
       "      <th>6</th>\n",
       "      <td>DEL RIO MOBILE HOME</td>\n",
       "      <td>ALAMEDA</td>\n",
       "      <td>01-0016-MP</td>\n",
       "      <td>1550 162Nd Ave, San Leandro, Ca 94578, (510) 2...</td>\n",
       "      <td>HCD - NORTHERN AREA OFFICE, 9342 TECH CENTER D...</td>\n",
       "      <td>HCD - NORTHERN AREA OFFICE, 9342 TECH CENTER D...</td>\n",
       "      <td>52.0</td>\n",
       "      <td>0.0</td>\n",
       "      <td>0.0</td>\n",
       "      <td>CALIFANO FAMILY TRUST, 1550 162ND AVENUE SPACE...</td>\n",
       "      <td>1550 162ND AVE, SAN LEANDRO, CA 94578, (510) 2...</td>\n",
       "    </tr>\n",
       "    <tr>\n",
       "      <th>7</th>\n",
       "      <td>DEL VALLE MHP</td>\n",
       "      <td>ALAMEDA</td>\n",
       "      <td>01-0017-MP</td>\n",
       "      <td>1148 Arroyo Rd, Livermore, Ca 94550, (510) 331...</td>\n",
       "      <td>HCD - NORTHERN AREA OFFICE, 9342 TECH CENTER D...</td>\n",
       "      <td>HCD - NORTHERN AREA OFFICE, 9342 TECH CENTER D...</td>\n",
       "      <td>29.0</td>\n",
       "      <td>0.0</td>\n",
       "      <td>0.0</td>\n",
       "      <td>ABBOUD FAMILY TRUST, PO BOX 3975, HAYWARD, CA ...</td>\n",
       "      <td>1148 ARROYO RD, LIVERMORE, CA 94550, (510) 331...</td>\n",
       "    </tr>\n",
       "    <tr>\n",
       "      <th>8</th>\n",
       "      <td>BAYSHORE COMMONS</td>\n",
       "      <td>ALAMEDA</td>\n",
       "      <td>01-0023-MP</td>\n",
       "      <td>1468 Grand Ave, San Leandro, Ca 94577, (510) 3...</td>\n",
       "      <td>HCD - NORTHERN AREA OFFICE, 9342 TECH CENTER D...</td>\n",
       "      <td>HCD - NORTHERN AREA OFFICE, 9342 TECH CENTER D...</td>\n",
       "      <td>40.0</td>\n",
       "      <td>0.0</td>\n",
       "      <td>0.0</td>\n",
       "      <td>SAN LEANDRO TRAILER PARK LLC, 6653 EMBARCADERO...</td>\n",
       "      <td>1468 GRAND AVE, SAN LEANDRO, CA 94577, (510) 3...</td>\n",
       "    </tr>\n",
       "    <tr>\n",
       "      <th>9</th>\n",
       "      <td>FAIRVIEW TP</td>\n",
       "      <td>ALAMEDA</td>\n",
       "      <td>01-0024-MP</td>\n",
       "      <td>785 Rose Ave, Pleasanton, Ca 94566, (925) 846-...</td>\n",
       "      <td>HCD - NORTHERN AREA OFFICE, 9342 TECH CENTER D...</td>\n",
       "      <td>HCD - NORTHERN AREA OFFICE, 9342 TECH CENTER D...</td>\n",
       "      <td>14.0</td>\n",
       "      <td>8.0</td>\n",
       "      <td>0.0</td>\n",
       "      <td>GIL, EDMUND, 2606 DERBY DR, SAN RAMON, CA 94583</td>\n",
       "      <td>785 ROSE AVE, PLEASANTON, CA 94566, (925) 846-...</td>\n",
       "    </tr>\n",
       "  </tbody>\n",
       "</table>\n",
       "</div>"
      ],
      "text/plain": [
       "                 park_name   county park_identifier  \\\n",
       "0         SPANISH RANCH II  ALAMEDA      01-0001-MP   \n",
       "1       GEORGIAN MANOR MHP  ALAMEDA      01-0003-MP   \n",
       "2           BAL TRAILER CT  ALAMEDA      01-0008-MP   \n",
       "3                VASCO MHP  ALAMEDA      01-0010-MP   \n",
       "4  AVALON MOBILE HOME PARK  ALAMEDA      01-0013-MP   \n",
       "5      NEW ENGLAND VILLAGE  ALAMEDA      01-0015-MP   \n",
       "6      DEL RIO MOBILE HOME  ALAMEDA      01-0016-MP   \n",
       "7            DEL VALLE MHP  ALAMEDA      01-0017-MP   \n",
       "8         BAYSHORE COMMONS  ALAMEDA      01-0023-MP   \n",
       "9              FAIRVIEW TP  ALAMEDA      01-0024-MP   \n",
       "\n",
       "                                        park_address  \\\n",
       "0  121 Ranchero Way, Hayward, Ca 94544, (510) 886...   \n",
       "1  1419 Buckingham Way, Hayward, Ca 94544, (510) ...   \n",
       "2  14831 Bancroft Ave, San Leandro, Ca 94578, (51...   \n",
       "3  6539 S Front Rd, Livermore, Ca 94550, (925) 44...   \n",
       "4  3970 Castro Valley Blvd, Castro Valley, Ca 945...   \n",
       "5  940 New England Village Dr, Hayward, Ca 94544,...   \n",
       "6  1550 162Nd Ave, San Leandro, Ca 94578, (510) 2...   \n",
       "7  1148 Arroyo Rd, Livermore, Ca 94550, (510) 331...   \n",
       "8  1468 Grand Ave, San Leandro, Ca 94577, (510) 3...   \n",
       "9  785 Rose Ave, Pleasanton, Ca 94566, (925) 846-...   \n",
       "\n",
       "                                      fire_authority  \\\n",
       "0  HCD - NORTHERN AREA OFFICE, 9342 TECH CENTER D...   \n",
       "1  HCD - NORTHERN AREA OFFICE, 9342 TECH CENTER D...   \n",
       "2  HCD - NORTHERN AREA OFFICE, 9342 TECH CENTER D...   \n",
       "3  HCD - NORTHERN AREA OFFICE, 9342 TECH CENTER D...   \n",
       "4  HCD - NORTHERN AREA OFFICE, 9342 TECH CENTER D...   \n",
       "5  HCD - NORTHERN AREA OFFICE, 9342 TECH CENTER D...   \n",
       "6  HCD - NORTHERN AREA OFFICE, 9342 TECH CENTER D...   \n",
       "7  HCD - NORTHERN AREA OFFICE, 9342 TECH CENTER D...   \n",
       "8  HCD - NORTHERN AREA OFFICE, 9342 TECH CENTER D...   \n",
       "9  HCD - NORTHERN AREA OFFICE, 9342 TECH CENTER D...   \n",
       "\n",
       "                                        jurisdiction  mh_spaces  \\\n",
       "0  HCD - NORTHERN AREA OFFICE, 9342 TECH CENTER D...      187.0   \n",
       "1  HCD - NORTHERN AREA OFFICE, 9342 TECH CENTER D...      265.0   \n",
       "2  HCD - NORTHERN AREA OFFICE, 9342 TECH CENTER D...       31.0   \n",
       "3  HCD - NORTHERN AREA OFFICE, 9342 TECH CENTER D...       50.0   \n",
       "4  HCD - NORTHERN AREA OFFICE, 9342 TECH CENTER D...       49.0   \n",
       "5  HCD - NORTHERN AREA OFFICE, 9342 TECH CENTER D...      415.0   \n",
       "6  HCD - NORTHERN AREA OFFICE, 9342 TECH CENTER D...       52.0   \n",
       "7  HCD - NORTHERN AREA OFFICE, 9342 TECH CENTER D...       29.0   \n",
       "8  HCD - NORTHERN AREA OFFICE, 9342 TECH CENTER D...       40.0   \n",
       "9  HCD - NORTHERN AREA OFFICE, 9342 TECH CENTER D...       14.0   \n",
       "\n",
       "   rv_lots_drains  rv_lots_no_drains  \\\n",
       "0             0.0                0.0   \n",
       "1             0.0                0.0   \n",
       "2             0.0                0.0   \n",
       "3            21.0                0.0   \n",
       "4             0.0                0.0   \n",
       "5             0.0                0.0   \n",
       "6             0.0                0.0   \n",
       "7             0.0                0.0   \n",
       "8             0.0                0.0   \n",
       "9             8.0                0.0   \n",
       "\n",
       "                                         operated_by  \\\n",
       "0  HOMETOWN SPANISH RANCH, LLC, A DELAWARE LIMITE...   \n",
       "1  GEORGIAN MANOR MOBILEHOME PARK L P, 321 HARTZ ...   \n",
       "2  PUEBLO SPRINGS MHP LTD, 10351 SANTA MONICA BLV...   \n",
       "3  SOLOMON/MANDEL, EDWARD/GEORGE, PO BOX 406, ALA...   \n",
       "4  AVALON MHP INC, 4061 EAST CASTRO VALLEY BLVD S...   \n",
       "5  BRANDENBURG STAEDLER & MOORE, 1122 WILLOW ST S...   \n",
       "6  CALIFANO FAMILY TRUST, 1550 162ND AVENUE SPACE...   \n",
       "7  ABBOUD FAMILY TRUST, PO BOX 3975, HAYWARD, CA ...   \n",
       "8  SAN LEANDRO TRAILER PARK LLC, 6653 EMBARCADERO...   \n",
       "9    GIL, EDMUND, 2606 DERBY DR, SAN RAMON, CA 94583   \n",
       "\n",
       "                                    operater_address  \n",
       "0  121 RANCHERO WAY, HAYWARD, CA 94544, (510) 886...  \n",
       "1  1419 BUCKINGHAM WAY, HAYWARD, CA 94544, (510) ...  \n",
       "2  14831 BANCROFT AVE, SAN LEANDRO, CA 94578, (51...  \n",
       "3  6539 S FRONT RD, LIVERMORE, CA 94550, (925) 44...  \n",
       "4  3970 CASTRO VALLEY BLVD, CASTRO VALLEY, CA 945...  \n",
       "5  940 NEW ENGLAND VILLAGE DR, HAYWARD, CA 94544,...  \n",
       "6  1550 162ND AVE, SAN LEANDRO, CA 94578, (510) 2...  \n",
       "7  1148 ARROYO RD, LIVERMORE, CA 94550, (510) 331...  \n",
       "8  1468 GRAND AVE, SAN LEANDRO, CA 94577, (510) 3...  \n",
       "9  785 ROSE AVE, PLEASANTON, CA 94566, (925) 846-...  "
      ]
     },
     "execution_count": 14,
     "metadata": {},
     "output_type": "execute_result"
    }
   ],
   "source": [
    "list_of_parks.head(10)"
   ]
  },
  {
   "cell_type": "code",
   "execution_count": 15,
   "id": "ae8b86fc-7ee9-4d6e-a06e-1d9fc786c382",
   "metadata": {},
   "outputs": [],
   "source": [
    "list_of_parks[['num_st', 'city', 'state', 'phone_num']] = list_of_parks['park_address'].str.split(',', n = 3, expand=True)"
   ]
  },
  {
   "cell_type": "code",
   "execution_count": 16,
   "id": "be871428-f525-4b31-8edd-4041528be979",
   "metadata": {
    "collapsed": true,
    "jupyter": {
     "outputs_hidden": true
    },
    "tags": []
   },
   "outputs": [
    {
     "data": {
      "text/html": [
       "<div>\n",
       "<style scoped>\n",
       "    .dataframe tbody tr th:only-of-type {\n",
       "        vertical-align: middle;\n",
       "    }\n",
       "\n",
       "    .dataframe tbody tr th {\n",
       "        vertical-align: top;\n",
       "    }\n",
       "\n",
       "    .dataframe thead th {\n",
       "        text-align: right;\n",
       "    }\n",
       "</style>\n",
       "<table border=\"1\" class=\"dataframe\">\n",
       "  <thead>\n",
       "    <tr style=\"text-align: right;\">\n",
       "      <th></th>\n",
       "      <th>park_name</th>\n",
       "      <th>county</th>\n",
       "      <th>park_identifier</th>\n",
       "      <th>park_address</th>\n",
       "      <th>fire_authority</th>\n",
       "      <th>jurisdiction</th>\n",
       "      <th>mh_spaces</th>\n",
       "      <th>rv_lots_drains</th>\n",
       "      <th>rv_lots_no_drains</th>\n",
       "      <th>operated_by</th>\n",
       "      <th>operater_address</th>\n",
       "      <th>num_st</th>\n",
       "      <th>city</th>\n",
       "      <th>state</th>\n",
       "      <th>phone_num</th>\n",
       "    </tr>\n",
       "  </thead>\n",
       "  <tbody>\n",
       "    <tr>\n",
       "      <th>0</th>\n",
       "      <td>SPANISH RANCH II</td>\n",
       "      <td>ALAMEDA</td>\n",
       "      <td>01-0001-MP</td>\n",
       "      <td>121 Ranchero Way, Hayward, Ca 94544, (510) 886...</td>\n",
       "      <td>HCD - NORTHERN AREA OFFICE, 9342 TECH CENTER D...</td>\n",
       "      <td>HCD - NORTHERN AREA OFFICE, 9342 TECH CENTER D...</td>\n",
       "      <td>187.0</td>\n",
       "      <td>0.0</td>\n",
       "      <td>0.0</td>\n",
       "      <td>HOMETOWN SPANISH RANCH, LLC, A DELAWARE LIMITE...</td>\n",
       "      <td>121 RANCHERO WAY, HAYWARD, CA 94544, (510) 886...</td>\n",
       "      <td>121 Ranchero Way</td>\n",
       "      <td>Hayward</td>\n",
       "      <td>Ca 94544</td>\n",
       "      <td>(510) 886-4646</td>\n",
       "    </tr>\n",
       "    <tr>\n",
       "      <th>1</th>\n",
       "      <td>GEORGIAN MANOR MHP</td>\n",
       "      <td>ALAMEDA</td>\n",
       "      <td>01-0003-MP</td>\n",
       "      <td>1419 Buckingham Way, Hayward, Ca 94544, (510) ...</td>\n",
       "      <td>HCD - NORTHERN AREA OFFICE, 9342 TECH CENTER D...</td>\n",
       "      <td>HCD - NORTHERN AREA OFFICE, 9342 TECH CENTER D...</td>\n",
       "      <td>265.0</td>\n",
       "      <td>0.0</td>\n",
       "      <td>0.0</td>\n",
       "      <td>GEORGIAN MANOR MOBILEHOME PARK L P, 321 HARTZ ...</td>\n",
       "      <td>1419 BUCKINGHAM WAY, HAYWARD, CA 94544, (510) ...</td>\n",
       "      <td>1419 Buckingham Way</td>\n",
       "      <td>Hayward</td>\n",
       "      <td>Ca 94544</td>\n",
       "      <td>(510) 785-2212</td>\n",
       "    </tr>\n",
       "    <tr>\n",
       "      <th>2</th>\n",
       "      <td>BAL TRAILER CT</td>\n",
       "      <td>ALAMEDA</td>\n",
       "      <td>01-0008-MP</td>\n",
       "      <td>14831 Bancroft Ave, San Leandro, Ca 94578, (51...</td>\n",
       "      <td>HCD - NORTHERN AREA OFFICE, 9342 TECH CENTER D...</td>\n",
       "      <td>HCD - NORTHERN AREA OFFICE, 9342 TECH CENTER D...</td>\n",
       "      <td>31.0</td>\n",
       "      <td>0.0</td>\n",
       "      <td>0.0</td>\n",
       "      <td>PUEBLO SPRINGS MHP LTD, 10351 SANTA MONICA BLV...</td>\n",
       "      <td>14831 BANCROFT AVE, SAN LEANDRO, CA 94578, (51...</td>\n",
       "      <td>14831 Bancroft Ave</td>\n",
       "      <td>San Leandro</td>\n",
       "      <td>Ca 94578</td>\n",
       "      <td>(510) 352-8152</td>\n",
       "    </tr>\n",
       "    <tr>\n",
       "      <th>3</th>\n",
       "      <td>VASCO MHP</td>\n",
       "      <td>ALAMEDA</td>\n",
       "      <td>01-0010-MP</td>\n",
       "      <td>6539 S Front Rd, Livermore, Ca 94550, (925) 44...</td>\n",
       "      <td>HCD - NORTHERN AREA OFFICE, 9342 TECH CENTER D...</td>\n",
       "      <td>HCD - NORTHERN AREA OFFICE, 9342 TECH CENTER D...</td>\n",
       "      <td>50.0</td>\n",
       "      <td>21.0</td>\n",
       "      <td>0.0</td>\n",
       "      <td>SOLOMON/MANDEL, EDWARD/GEORGE, PO BOX 406, ALA...</td>\n",
       "      <td>6539 S FRONT RD, LIVERMORE, CA 94550, (925) 44...</td>\n",
       "      <td>6539 S Front Rd</td>\n",
       "      <td>Livermore</td>\n",
       "      <td>Ca 94550</td>\n",
       "      <td>(925) 447-0758</td>\n",
       "    </tr>\n",
       "    <tr>\n",
       "      <th>4</th>\n",
       "      <td>AVALON MOBILE HOME PARK</td>\n",
       "      <td>ALAMEDA</td>\n",
       "      <td>01-0013-MP</td>\n",
       "      <td>3970 Castro Valley Blvd, Castro Valley, Ca 945...</td>\n",
       "      <td>HCD - NORTHERN AREA OFFICE, 9342 TECH CENTER D...</td>\n",
       "      <td>HCD - NORTHERN AREA OFFICE, 9342 TECH CENTER D...</td>\n",
       "      <td>49.0</td>\n",
       "      <td>0.0</td>\n",
       "      <td>0.0</td>\n",
       "      <td>AVALON MHP INC, 4061 EAST CASTRO VALLEY BLVD S...</td>\n",
       "      <td>3970 CASTRO VALLEY BLVD, CASTRO VALLEY, CA 945...</td>\n",
       "      <td>3970 Castro Valley Blvd</td>\n",
       "      <td>Castro Valley</td>\n",
       "      <td>Ca 94546</td>\n",
       "      <td>(510) 537-4815</td>\n",
       "    </tr>\n",
       "    <tr>\n",
       "      <th>5</th>\n",
       "      <td>NEW ENGLAND VILLAGE</td>\n",
       "      <td>ALAMEDA</td>\n",
       "      <td>01-0015-MP</td>\n",
       "      <td>940 New England Village Dr, Hayward, Ca 94544,...</td>\n",
       "      <td>HCD - NORTHERN AREA OFFICE, 9342 TECH CENTER D...</td>\n",
       "      <td>HCD - NORTHERN AREA OFFICE, 9342 TECH CENTER D...</td>\n",
       "      <td>415.0</td>\n",
       "      <td>0.0</td>\n",
       "      <td>0.0</td>\n",
       "      <td>BRANDENBURG STAEDLER &amp; MOORE, 1122 WILLOW ST S...</td>\n",
       "      <td>940 NEW ENGLAND VILLAGE DR, HAYWARD, CA 94544,...</td>\n",
       "      <td>940 New England Village Dr</td>\n",
       "      <td>Hayward</td>\n",
       "      <td>Ca 94544</td>\n",
       "      <td>(510) 785-4511</td>\n",
       "    </tr>\n",
       "    <tr>\n",
       "      <th>6</th>\n",
       "      <td>DEL RIO MOBILE HOME</td>\n",
       "      <td>ALAMEDA</td>\n",
       "      <td>01-0016-MP</td>\n",
       "      <td>1550 162Nd Ave, San Leandro, Ca 94578, (510) 2...</td>\n",
       "      <td>HCD - NORTHERN AREA OFFICE, 9342 TECH CENTER D...</td>\n",
       "      <td>HCD - NORTHERN AREA OFFICE, 9342 TECH CENTER D...</td>\n",
       "      <td>52.0</td>\n",
       "      <td>0.0</td>\n",
       "      <td>0.0</td>\n",
       "      <td>CALIFANO FAMILY TRUST, 1550 162ND AVENUE SPACE...</td>\n",
       "      <td>1550 162ND AVE, SAN LEANDRO, CA 94578, (510) 2...</td>\n",
       "      <td>1550 162Nd Ave</td>\n",
       "      <td>San Leandro</td>\n",
       "      <td>Ca 94578</td>\n",
       "      <td>(510) 278-8810</td>\n",
       "    </tr>\n",
       "    <tr>\n",
       "      <th>7</th>\n",
       "      <td>DEL VALLE MHP</td>\n",
       "      <td>ALAMEDA</td>\n",
       "      <td>01-0017-MP</td>\n",
       "      <td>1148 Arroyo Rd, Livermore, Ca 94550, (510) 331...</td>\n",
       "      <td>HCD - NORTHERN AREA OFFICE, 9342 TECH CENTER D...</td>\n",
       "      <td>HCD - NORTHERN AREA OFFICE, 9342 TECH CENTER D...</td>\n",
       "      <td>29.0</td>\n",
       "      <td>0.0</td>\n",
       "      <td>0.0</td>\n",
       "      <td>ABBOUD FAMILY TRUST, PO BOX 3975, HAYWARD, CA ...</td>\n",
       "      <td>1148 ARROYO RD, LIVERMORE, CA 94550, (510) 331...</td>\n",
       "      <td>1148 Arroyo Rd</td>\n",
       "      <td>Livermore</td>\n",
       "      <td>Ca 94550</td>\n",
       "      <td>(510) 331-2000</td>\n",
       "    </tr>\n",
       "    <tr>\n",
       "      <th>8</th>\n",
       "      <td>BAYSHORE COMMONS</td>\n",
       "      <td>ALAMEDA</td>\n",
       "      <td>01-0023-MP</td>\n",
       "      <td>1468 Grand Ave, San Leandro, Ca 94577, (510) 3...</td>\n",
       "      <td>HCD - NORTHERN AREA OFFICE, 9342 TECH CENTER D...</td>\n",
       "      <td>HCD - NORTHERN AREA OFFICE, 9342 TECH CENTER D...</td>\n",
       "      <td>40.0</td>\n",
       "      <td>0.0</td>\n",
       "      <td>0.0</td>\n",
       "      <td>SAN LEANDRO TRAILER PARK LLC, 6653 EMBARCADERO...</td>\n",
       "      <td>1468 GRAND AVE, SAN LEANDRO, CA 94577, (510) 3...</td>\n",
       "      <td>1468 Grand Ave</td>\n",
       "      <td>San Leandro</td>\n",
       "      <td>Ca 94577</td>\n",
       "      <td>(510) 351-5950</td>\n",
       "    </tr>\n",
       "    <tr>\n",
       "      <th>9</th>\n",
       "      <td>FAIRVIEW TP</td>\n",
       "      <td>ALAMEDA</td>\n",
       "      <td>01-0024-MP</td>\n",
       "      <td>785 Rose Ave, Pleasanton, Ca 94566, (925) 846-...</td>\n",
       "      <td>HCD - NORTHERN AREA OFFICE, 9342 TECH CENTER D...</td>\n",
       "      <td>HCD - NORTHERN AREA OFFICE, 9342 TECH CENTER D...</td>\n",
       "      <td>14.0</td>\n",
       "      <td>8.0</td>\n",
       "      <td>0.0</td>\n",
       "      <td>GIL, EDMUND, 2606 DERBY DR, SAN RAMON, CA 94583</td>\n",
       "      <td>785 ROSE AVE, PLEASANTON, CA 94566, (925) 846-...</td>\n",
       "      <td>785 Rose Ave</td>\n",
       "      <td>Pleasanton</td>\n",
       "      <td>Ca 94566</td>\n",
       "      <td>(925) 846-5074</td>\n",
       "    </tr>\n",
       "  </tbody>\n",
       "</table>\n",
       "</div>"
      ],
      "text/plain": [
       "                 park_name   county park_identifier  \\\n",
       "0         SPANISH RANCH II  ALAMEDA      01-0001-MP   \n",
       "1       GEORGIAN MANOR MHP  ALAMEDA      01-0003-MP   \n",
       "2           BAL TRAILER CT  ALAMEDA      01-0008-MP   \n",
       "3                VASCO MHP  ALAMEDA      01-0010-MP   \n",
       "4  AVALON MOBILE HOME PARK  ALAMEDA      01-0013-MP   \n",
       "5      NEW ENGLAND VILLAGE  ALAMEDA      01-0015-MP   \n",
       "6      DEL RIO MOBILE HOME  ALAMEDA      01-0016-MP   \n",
       "7            DEL VALLE MHP  ALAMEDA      01-0017-MP   \n",
       "8         BAYSHORE COMMONS  ALAMEDA      01-0023-MP   \n",
       "9              FAIRVIEW TP  ALAMEDA      01-0024-MP   \n",
       "\n",
       "                                        park_address  \\\n",
       "0  121 Ranchero Way, Hayward, Ca 94544, (510) 886...   \n",
       "1  1419 Buckingham Way, Hayward, Ca 94544, (510) ...   \n",
       "2  14831 Bancroft Ave, San Leandro, Ca 94578, (51...   \n",
       "3  6539 S Front Rd, Livermore, Ca 94550, (925) 44...   \n",
       "4  3970 Castro Valley Blvd, Castro Valley, Ca 945...   \n",
       "5  940 New England Village Dr, Hayward, Ca 94544,...   \n",
       "6  1550 162Nd Ave, San Leandro, Ca 94578, (510) 2...   \n",
       "7  1148 Arroyo Rd, Livermore, Ca 94550, (510) 331...   \n",
       "8  1468 Grand Ave, San Leandro, Ca 94577, (510) 3...   \n",
       "9  785 Rose Ave, Pleasanton, Ca 94566, (925) 846-...   \n",
       "\n",
       "                                      fire_authority  \\\n",
       "0  HCD - NORTHERN AREA OFFICE, 9342 TECH CENTER D...   \n",
       "1  HCD - NORTHERN AREA OFFICE, 9342 TECH CENTER D...   \n",
       "2  HCD - NORTHERN AREA OFFICE, 9342 TECH CENTER D...   \n",
       "3  HCD - NORTHERN AREA OFFICE, 9342 TECH CENTER D...   \n",
       "4  HCD - NORTHERN AREA OFFICE, 9342 TECH CENTER D...   \n",
       "5  HCD - NORTHERN AREA OFFICE, 9342 TECH CENTER D...   \n",
       "6  HCD - NORTHERN AREA OFFICE, 9342 TECH CENTER D...   \n",
       "7  HCD - NORTHERN AREA OFFICE, 9342 TECH CENTER D...   \n",
       "8  HCD - NORTHERN AREA OFFICE, 9342 TECH CENTER D...   \n",
       "9  HCD - NORTHERN AREA OFFICE, 9342 TECH CENTER D...   \n",
       "\n",
       "                                        jurisdiction  mh_spaces  \\\n",
       "0  HCD - NORTHERN AREA OFFICE, 9342 TECH CENTER D...      187.0   \n",
       "1  HCD - NORTHERN AREA OFFICE, 9342 TECH CENTER D...      265.0   \n",
       "2  HCD - NORTHERN AREA OFFICE, 9342 TECH CENTER D...       31.0   \n",
       "3  HCD - NORTHERN AREA OFFICE, 9342 TECH CENTER D...       50.0   \n",
       "4  HCD - NORTHERN AREA OFFICE, 9342 TECH CENTER D...       49.0   \n",
       "5  HCD - NORTHERN AREA OFFICE, 9342 TECH CENTER D...      415.0   \n",
       "6  HCD - NORTHERN AREA OFFICE, 9342 TECH CENTER D...       52.0   \n",
       "7  HCD - NORTHERN AREA OFFICE, 9342 TECH CENTER D...       29.0   \n",
       "8  HCD - NORTHERN AREA OFFICE, 9342 TECH CENTER D...       40.0   \n",
       "9  HCD - NORTHERN AREA OFFICE, 9342 TECH CENTER D...       14.0   \n",
       "\n",
       "   rv_lots_drains  rv_lots_no_drains  \\\n",
       "0             0.0                0.0   \n",
       "1             0.0                0.0   \n",
       "2             0.0                0.0   \n",
       "3            21.0                0.0   \n",
       "4             0.0                0.0   \n",
       "5             0.0                0.0   \n",
       "6             0.0                0.0   \n",
       "7             0.0                0.0   \n",
       "8             0.0                0.0   \n",
       "9             8.0                0.0   \n",
       "\n",
       "                                         operated_by  \\\n",
       "0  HOMETOWN SPANISH RANCH, LLC, A DELAWARE LIMITE...   \n",
       "1  GEORGIAN MANOR MOBILEHOME PARK L P, 321 HARTZ ...   \n",
       "2  PUEBLO SPRINGS MHP LTD, 10351 SANTA MONICA BLV...   \n",
       "3  SOLOMON/MANDEL, EDWARD/GEORGE, PO BOX 406, ALA...   \n",
       "4  AVALON MHP INC, 4061 EAST CASTRO VALLEY BLVD S...   \n",
       "5  BRANDENBURG STAEDLER & MOORE, 1122 WILLOW ST S...   \n",
       "6  CALIFANO FAMILY TRUST, 1550 162ND AVENUE SPACE...   \n",
       "7  ABBOUD FAMILY TRUST, PO BOX 3975, HAYWARD, CA ...   \n",
       "8  SAN LEANDRO TRAILER PARK LLC, 6653 EMBARCADERO...   \n",
       "9    GIL, EDMUND, 2606 DERBY DR, SAN RAMON, CA 94583   \n",
       "\n",
       "                                    operater_address  \\\n",
       "0  121 RANCHERO WAY, HAYWARD, CA 94544, (510) 886...   \n",
       "1  1419 BUCKINGHAM WAY, HAYWARD, CA 94544, (510) ...   \n",
       "2  14831 BANCROFT AVE, SAN LEANDRO, CA 94578, (51...   \n",
       "3  6539 S FRONT RD, LIVERMORE, CA 94550, (925) 44...   \n",
       "4  3970 CASTRO VALLEY BLVD, CASTRO VALLEY, CA 945...   \n",
       "5  940 NEW ENGLAND VILLAGE DR, HAYWARD, CA 94544,...   \n",
       "6  1550 162ND AVE, SAN LEANDRO, CA 94578, (510) 2...   \n",
       "7  1148 ARROYO RD, LIVERMORE, CA 94550, (510) 331...   \n",
       "8  1468 GRAND AVE, SAN LEANDRO, CA 94577, (510) 3...   \n",
       "9  785 ROSE AVE, PLEASANTON, CA 94566, (925) 846-...   \n",
       "\n",
       "                       num_st            city      state        phone_num  \n",
       "0            121 Ranchero Way         Hayward   Ca 94544   (510) 886-4646  \n",
       "1         1419 Buckingham Way         Hayward   Ca 94544   (510) 785-2212  \n",
       "2          14831 Bancroft Ave     San Leandro   Ca 94578   (510) 352-8152  \n",
       "3             6539 S Front Rd       Livermore   Ca 94550   (925) 447-0758  \n",
       "4     3970 Castro Valley Blvd   Castro Valley   Ca 94546   (510) 537-4815  \n",
       "5  940 New England Village Dr         Hayward   Ca 94544   (510) 785-4511  \n",
       "6              1550 162Nd Ave     San Leandro   Ca 94578   (510) 278-8810  \n",
       "7              1148 Arroyo Rd       Livermore   Ca 94550   (510) 331-2000  \n",
       "8              1468 Grand Ave     San Leandro   Ca 94577   (510) 351-5950  \n",
       "9                785 Rose Ave      Pleasanton   Ca 94566   (925) 846-5074  "
      ]
     },
     "execution_count": 16,
     "metadata": {},
     "output_type": "execute_result"
    }
   ],
   "source": [
    "list_of_parks.head(10)"
   ]
  },
  {
   "cell_type": "code",
   "execution_count": 17,
   "id": "38a8d12c-7f45-47a0-879e-1f2b668460d2",
   "metadata": {},
   "outputs": [],
   "source": [
    "list_of_parks['city'] = list_of_parks['city'].str.lstrip(' ')\n",
    "list_of_parks[['state_only', 'zip']] = list_of_parks['state'].str.split(expand=True)\n",
    "list_of_parks['state_only'] = list_of_parks.state_only.str.upper()\n",
    "list_of_parks[\"updated_address\"] = list_of_parks[\"num_st\"] +\",\"+ list_of_parks[\"city\"] + \",\" + list_of_parks[\"state\"]"
   ]
  },
  {
   "cell_type": "markdown",
   "id": "cbb2dafd-046c-48c5-a45e-f72d22462c60",
   "metadata": {},
   "source": [
    "**Next, I will explore some of the data fields. First off, it looks like there are 57 counties which make sense. I will go through them and ensure there are no duplicates.**"
   ]
  },
  {
   "cell_type": "code",
   "execution_count": 18,
   "id": "feedba61-4eec-4c02-8f32-6b32f0d0f639",
   "metadata": {},
   "outputs": [],
   "source": [
    "list_of_parks[\"county\"] = list_of_parks[\"county\"].str.lower()"
   ]
  },
  {
   "cell_type": "code",
   "execution_count": 19,
   "id": "65cd7c00-ca95-4a97-985f-c439ec0bd944",
   "metadata": {},
   "outputs": [
    {
     "data": {
      "text/plain": [
       "57"
      ]
     },
     "execution_count": 19,
     "metadata": {},
     "output_type": "execute_result"
    }
   ],
   "source": [
    "list_of_parks.county.nunique()"
   ]
  },
  {
   "cell_type": "code",
   "execution_count": 20,
   "id": "0415c582-0954-48b0-9cf5-e4794db5ceca",
   "metadata": {},
   "outputs": [
    {
     "data": {
      "text/plain": [
       "array(['alameda', 'alpine', 'amador', 'butte', 'calaveras', 'colusa',\n",
       "       'contra costa', 'del norte', 'el dorado', 'fresno', 'glenn',\n",
       "       'humboldt', 'imperial', 'los angeles', 'riverside', 'inyo', 'kern',\n",
       "       'kings', 'lake', 'lassen', 'madera', 'marin', 'mariposa',\n",
       "       'tuolumne', 'merced', 'mendocino', 'modoc', 'mono', 'monterey',\n",
       "       'santa cruz', 'napa', 'nevada', 'placer', 'orange', 'plumas',\n",
       "       'sacramento', 'solano', 'san benito', 'san bernardino',\n",
       "       'san diego', 'san joaquin', 'san luis obispo', 'san mateo',\n",
       "       'santa barbara', 'santa clara', 'shasta', 'siskiyou', 'sierra',\n",
       "       'sonoma', 'stanislaus', 'sutter', 'yolo', 'tehama', 'trinity',\n",
       "       'tulare', 'ventura', 'yuba'], dtype=object)"
      ]
     },
     "execution_count": 20,
     "metadata": {},
     "output_type": "execute_result"
    }
   ],
   "source": [
    "list_of_parks.county.unique()"
   ]
  },
  {
   "cell_type": "markdown",
   "id": "8a363193-4e0a-4862-a43d-135eef3e67a0",
   "metadata": {},
   "source": [
    "**Next, I'll filter this dataframe down so it only contains columns necessary to my analysis.**"
   ]
  },
  {
   "cell_type": "code",
   "execution_count": 22,
   "id": "1bed985c-a811-4828-a4ea-0b7e52b4fc44",
   "metadata": {},
   "outputs": [],
   "source": [
    "list_of_parks_filtered = list_of_parks[['park_name',\n",
    "                                        'mh_spaces',\n",
    "                                        'city']]"
   ]
  },
  {
   "cell_type": "markdown",
   "id": "6c5777f0-49e8-4799-aa0d-fc01002fb959",
   "metadata": {},
   "source": [
    "**The last thing I'll do is apply a groupby to the dataframe so there are columns for each city and the amount of MH spaces in each city.**"
   ]
  },
  {
   "cell_type": "code",
   "execution_count": 23,
   "id": "ce23eee0-ebb9-4cb1-a96b-f8ea74692315",
   "metadata": {},
   "outputs": [],
   "source": [
    "list_of_parks_analysis = list_of_parks_filtered.groupby('city').mh_spaces.sum().reset_index().sort_values('mh_spaces')"
   ]
  },
  {
   "cell_type": "code",
   "execution_count": 24,
   "id": "2eef48ca-a112-4036-a27f-2897aa526fab",
   "metadata": {},
   "outputs": [
    {
     "data": {
      "text/html": [
       "<div>\n",
       "<style scoped>\n",
       "    .dataframe tbody tr th:only-of-type {\n",
       "        vertical-align: middle;\n",
       "    }\n",
       "\n",
       "    .dataframe tbody tr th {\n",
       "        vertical-align: top;\n",
       "    }\n",
       "\n",
       "    .dataframe thead th {\n",
       "        text-align: right;\n",
       "    }\n",
       "</style>\n",
       "<table border=\"1\" class=\"dataframe\">\n",
       "  <thead>\n",
       "    <tr style=\"text-align: right;\">\n",
       "      <th></th>\n",
       "      <th>city</th>\n",
       "      <th>mh_spaces</th>\n",
       "    </tr>\n",
       "  </thead>\n",
       "  <tbody>\n",
       "    <tr>\n",
       "      <th>128</th>\n",
       "      <td>Canyon Lake</td>\n",
       "      <td>1.0</td>\n",
       "    </tr>\n",
       "    <tr>\n",
       "      <th>33</th>\n",
       "      <td>Aromas</td>\n",
       "      <td>1.0</td>\n",
       "    </tr>\n",
       "    <tr>\n",
       "      <th>448</th>\n",
       "      <td>Magalia</td>\n",
       "      <td>1.0</td>\n",
       "    </tr>\n",
       "    <tr>\n",
       "      <th>594</th>\n",
       "      <td>Point Arena</td>\n",
       "      <td>1.0</td>\n",
       "    </tr>\n",
       "    <tr>\n",
       "      <th>420</th>\n",
       "      <td>Loch Lomond</td>\n",
       "      <td>1.0</td>\n",
       "    </tr>\n",
       "    <tr>\n",
       "      <th>...</th>\n",
       "      <td>...</td>\n",
       "      <td>...</td>\n",
       "    </tr>\n",
       "    <tr>\n",
       "      <th>653</th>\n",
       "      <td>San Diego</td>\n",
       "      <td>4747.0</td>\n",
       "    </tr>\n",
       "    <tr>\n",
       "      <th>232</th>\n",
       "      <td>El Cajon</td>\n",
       "      <td>5359.0</td>\n",
       "    </tr>\n",
       "    <tr>\n",
       "      <th>644</th>\n",
       "      <td>Sacramento</td>\n",
       "      <td>6729.0</td>\n",
       "    </tr>\n",
       "    <tr>\n",
       "      <th>322</th>\n",
       "      <td>Hemet</td>\n",
       "      <td>6987.0</td>\n",
       "    </tr>\n",
       "    <tr>\n",
       "      <th>658</th>\n",
       "      <td>San Jose</td>\n",
       "      <td>10667.0</td>\n",
       "    </tr>\n",
       "  </tbody>\n",
       "</table>\n",
       "<p>821 rows × 2 columns</p>\n",
       "</div>"
      ],
      "text/plain": [
       "            city  mh_spaces\n",
       "128  Canyon Lake        1.0\n",
       "33        Aromas        1.0\n",
       "448      Magalia        1.0\n",
       "594  Point Arena        1.0\n",
       "420  Loch Lomond        1.0\n",
       "..           ...        ...\n",
       "653    San Diego     4747.0\n",
       "232     El Cajon     5359.0\n",
       "644   Sacramento     6729.0\n",
       "322        Hemet     6987.0\n",
       "658     San Jose    10667.0\n",
       "\n",
       "[821 rows x 2 columns]"
      ]
     },
     "execution_count": 24,
     "metadata": {},
     "output_type": "execute_result"
    }
   ],
   "source": [
    "list_of_parks_analysis"
   ]
  },
  {
   "cell_type": "markdown",
   "id": "a7cad711-3970-4d78-ad71-f384d592b710",
   "metadata": {},
   "source": [
    "**Export dataframe as CSV.**"
   ]
  },
  {
   "cell_type": "code",
   "execution_count": 27,
   "id": "87546b88-490b-4601-bf31-76d00a7a69f5",
   "metadata": {},
   "outputs": [],
   "source": [
    "mh_analysis_path = os.path.join(processed_data, 'mh_parks_analysis.csv')\n",
    "list_of_parks_analysis.to_csv(mh_analysis_path, index=False)"
   ]
  },
  {
   "cell_type": "markdown",
   "id": "c6b7850c-cea1-44c2-ac92-0a4e2a70ffa1",
   "metadata": {},
   "source": [
    "#### Acquiring 2018 ACS pop estimates"
   ]
  },
  {
   "cell_type": "markdown",
   "id": "6089ed7a-fa2d-46fc-a4dc-da34ed269d28",
   "metadata": {},
   "source": [
    "**I'll start by using a function I wrote for a previous project to get the specific data I want (ACS 5 year estimate for chart DPO5, which estimates population). I'll run the function and assign the resulting json to a variable.**"
   ]
  },
  {
   "cell_type": "code",
   "execution_count": 28,
   "id": "842f9dff-ac74-481c-a04a-69b9be46893d",
   "metadata": {},
   "outputs": [],
   "source": [
    "def get_ACS_name(year):\n",
    "    dsource = 'acs'\n",
    "    dname = 'acs5'\n",
    "    base_url = f'https://api.census.gov/data/{year}/{dsource}/{dname}/profile'\n",
    "    chart = 'DP05_0001E'\n",
    "    state = '06'\n",
    "    api_key = os.environ[\"CENSUS_API_KEY\"]\n",
    "    data_url = f'{base_url}?get=NAME,{chart}&for=place:*&in=state:{state}&key={api_key}'\n",
    "    response=requests.get(data_url)\n",
    "    json=response.json()\n",
    "    return json"
   ]
  },
  {
   "cell_type": "code",
   "execution_count": 29,
   "id": "86a60f6a-a453-4a9e-a2e1-5e70760a5a91",
   "metadata": {},
   "outputs": [],
   "source": [
    "population_by_place_name = get_ACS_name(2018)"
   ]
  },
  {
   "cell_type": "markdown",
   "id": "00d1b094-0e98-40a4-8959-849eb1ee0a36",
   "metadata": {},
   "source": [
    "**I'll convert the json to a pandas dataframe and rename columns for readability.**"
   ]
  },
  {
   "cell_type": "code",
   "execution_count": 32,
   "id": "21aa83d3-8b18-41e4-9b85-e7be8128982f",
   "metadata": {},
   "outputs": [],
   "source": [
    "population_by_place_name =pd.DataFrame(population_by_place_name[1:], columns=population_by_place_name[0]\n",
    "                              ).rename(columns={'NAME':'city',\n",
    "                                                'DP05_0001E':'pop_2018_est'}\n",
    "                                      ).drop(columns=['state']\n",
    "                                            )#first argument specified rows, second specifies columns\n"
   ]
  },
  {
   "cell_type": "code",
   "execution_count": 33,
   "id": "0612bad8-096a-40bd-8158-3804b0ebc2b3",
   "metadata": {},
   "outputs": [
    {
     "name": "stdout",
     "output_type": "stream",
     "text": [
      "<class 'pandas.core.frame.DataFrame'>\n",
      "RangeIndex: 1521 entries, 0 to 1520\n",
      "Data columns (total 3 columns):\n",
      " #   Column        Non-Null Count  Dtype \n",
      "---  ------        --------------  ----- \n",
      " 0   city          1521 non-null   object\n",
      " 1   pop_2018_est  1521 non-null   object\n",
      " 2   place         1521 non-null   object\n",
      "dtypes: object(3)\n",
      "memory usage: 35.8+ KB\n"
     ]
    }
   ],
   "source": [
    "population_by_place_name.info()"
   ]
  },
  {
   "cell_type": "markdown",
   "id": "ebd41b18-e675-4db0-90f4-4a0a4696646d",
   "metadata": {},
   "source": [
    "**I'll remove any of the the words that follow the name of each place with an empty string.**"
   ]
  },
  {
   "cell_type": "code",
   "execution_count": 34,
   "id": "fee59ffd-594d-44e4-89b9-81e58379d023",
   "metadata": {},
   "outputs": [],
   "source": [
    "population_by_place_name['city'] = population_by_place_name['city'].str.replace(' city','')\n",
    "population_by_place_name['city'] = population_by_place_name['city'].str.replace(' CDP','')\n",
    "population_by_place_name['city'] = population_by_place_name['city'].str.replace(' town','')\n",
    "population_by_place_name['city'] = population_by_place_name['city'].str.replace(', California','')"
   ]
  },
  {
   "cell_type": "markdown",
   "id": "4dd14685-cad8-4d42-bbd8-64cdff83c23d",
   "metadata": {},
   "source": [
    "**Export as CSV.**"
   ]
  },
  {
   "cell_type": "code",
   "execution_count": 35,
   "id": "c1f254c8-42f8-47f6-9fad-18f31e3a4fed",
   "metadata": {},
   "outputs": [],
   "source": [
    "population_by_place_path = os.path.join(processed_data, 'ca_cities_2018_ACS.csv')\n",
    "population_by_place_name.to_csv(population_by_place_path, index=False)"
   ]
  },
  {
   "cell_type": "markdown",
   "id": "76a91624-a354-43a9-8925-251f049959e9",
   "metadata": {},
   "source": [
    "#### Cleaning CA place shapefile"
   ]
  },
  {
   "cell_type": "markdown",
   "id": "b4fa01c3-83b8-478f-adf5-3b822e54e150",
   "metadata": {},
   "source": [
    "**Before merging, I will retain only the columns that are necessary. Note: I keep the PLACEFP column because that's what I'll use to merge with the population dataset. I'll also maintain the NAMELSAD column because if there are any duplicated place names, this column will tell me if it's a CDP, town, or city.**"
   ]
  },
  {
   "cell_type": "code",
   "execution_count": 36,
   "id": "89a7da85-cb61-4f2a-b29d-cf96f1e90560",
   "metadata": {},
   "outputs": [],
   "source": [
    "places_geo = pd.read_csv(raw_data + 'ca_place_geo_2018.csv', dtype=str)"
   ]
  },
  {
   "cell_type": "code",
   "execution_count": 37,
   "id": "607a0e40-ac1a-4fd1-9984-df02c4938d4d",
   "metadata": {},
   "outputs": [
    {
     "name": "stdout",
     "output_type": "stream",
     "text": [
      "<class 'pandas.core.frame.DataFrame'>\n",
      "RangeIndex: 1521 entries, 0 to 1520\n",
      "Data columns (total 16 columns):\n",
      " #   Column    Non-Null Count  Dtype \n",
      "---  ------    --------------  ----- \n",
      " 0   STATEFP   1521 non-null   object\n",
      " 1   PLACEFP   1521 non-null   object\n",
      " 2   PLACENS   1521 non-null   object\n",
      " 3   GEOID     1521 non-null   object\n",
      " 4   NAME      1521 non-null   object\n",
      " 5   NAMELSAD  1521 non-null   object\n",
      " 6   LSAD      1521 non-null   object\n",
      " 7   CLASSFP   1521 non-null   object\n",
      " 8   PCICBSA   1521 non-null   object\n",
      " 9   PCINECTA  1521 non-null   object\n",
      " 10  MTFCC     1521 non-null   object\n",
      " 11  FUNCSTAT  1521 non-null   object\n",
      " 12  ALAND     1521 non-null   object\n",
      " 13  AWATER    1521 non-null   object\n",
      " 14  INTPTLAT  1521 non-null   object\n",
      " 15  INTPTLON  1521 non-null   object\n",
      "dtypes: object(16)\n",
      "memory usage: 190.2+ KB\n"
     ]
    }
   ],
   "source": [
    "places_geo.info()"
   ]
  },
  {
   "cell_type": "code",
   "execution_count": 38,
   "id": "ab938a9f-a4f8-45c8-b936-c9a21c91ff03",
   "metadata": {},
   "outputs": [],
   "source": [
    "places_geo = places_geo[['NAME', 'ALAND', 'PLACEFP', 'NAMELSAD']]"
   ]
  },
  {
   "cell_type": "code",
   "execution_count": 39,
   "id": "2024b77f-f48c-45e5-8b5c-27a94aa36aa0",
   "metadata": {},
   "outputs": [],
   "source": [
    "places_geo.rename(columns={'NAME':'city',\n",
    "                          'ALAND':'area_land',\n",
    "                          'PLACEFP': 'place',\n",
    "                          'NAMELSAD': 'place_type'}, inplace=True)"
   ]
  },
  {
   "cell_type": "code",
   "execution_count": 48,
   "id": "edd4211b-57b6-4997-ac1c-009e85c49290",
   "metadata": {
    "collapsed": true,
    "jupyter": {
     "outputs_hidden": true
    },
    "tags": []
   },
   "outputs": [
    {
     "data": {
      "text/html": [
       "<div>\n",
       "<style scoped>\n",
       "    .dataframe tbody tr th:only-of-type {\n",
       "        vertical-align: middle;\n",
       "    }\n",
       "\n",
       "    .dataframe tbody tr th {\n",
       "        vertical-align: top;\n",
       "    }\n",
       "\n",
       "    .dataframe thead th {\n",
       "        text-align: right;\n",
       "    }\n",
       "</style>\n",
       "<table border=\"1\" class=\"dataframe\">\n",
       "  <thead>\n",
       "    <tr style=\"text-align: right;\">\n",
       "      <th></th>\n",
       "      <th>city</th>\n",
       "      <th>area_land</th>\n",
       "      <th>place</th>\n",
       "      <th>place_type</th>\n",
       "    </tr>\n",
       "  </thead>\n",
       "  <tbody>\n",
       "    <tr>\n",
       "      <th>0</th>\n",
       "      <td>King City</td>\n",
       "      <td>10090834</td>\n",
       "      <td>38520</td>\n",
       "      <td>King City city</td>\n",
       "    </tr>\n",
       "    <tr>\n",
       "      <th>1</th>\n",
       "      <td>Woodlake</td>\n",
       "      <td>6305660</td>\n",
       "      <td>86300</td>\n",
       "      <td>Woodlake city</td>\n",
       "    </tr>\n",
       "    <tr>\n",
       "      <th>2</th>\n",
       "      <td>Twentynine Palms</td>\n",
       "      <td>152179753</td>\n",
       "      <td>80994</td>\n",
       "      <td>Twentynine Palms city</td>\n",
       "    </tr>\n",
       "    <tr>\n",
       "      <th>3</th>\n",
       "      <td>Upland</td>\n",
       "      <td>40432020</td>\n",
       "      <td>81344</td>\n",
       "      <td>Upland city</td>\n",
       "    </tr>\n",
       "    <tr>\n",
       "      <th>4</th>\n",
       "      <td>Yucaipa</td>\n",
       "      <td>73279143</td>\n",
       "      <td>87042</td>\n",
       "      <td>Yucaipa city</td>\n",
       "    </tr>\n",
       "    <tr>\n",
       "      <th>...</th>\n",
       "      <td>...</td>\n",
       "      <td>...</td>\n",
       "      <td>...</td>\n",
       "      <td>...</td>\n",
       "    </tr>\n",
       "    <tr>\n",
       "      <th>1516</th>\n",
       "      <td>Yosemite Lakes</td>\n",
       "      <td>54136049</td>\n",
       "      <td>86878</td>\n",
       "      <td>Yosemite Lakes CDP</td>\n",
       "    </tr>\n",
       "    <tr>\n",
       "      <th>1517</th>\n",
       "      <td>Yosemite Valley</td>\n",
       "      <td>5333712</td>\n",
       "      <td>86912</td>\n",
       "      <td>Yosemite Valley CDP</td>\n",
       "    </tr>\n",
       "    <tr>\n",
       "      <th>1518</th>\n",
       "      <td>Zayante</td>\n",
       "      <td>7058064</td>\n",
       "      <td>87090</td>\n",
       "      <td>Zayante CDP</td>\n",
       "    </tr>\n",
       "    <tr>\n",
       "      <th>1519</th>\n",
       "      <td>Sugarloaf Mountain Park</td>\n",
       "      <td>273752</td>\n",
       "      <td>75588</td>\n",
       "      <td>Sugarloaf Mountain Park CDP</td>\n",
       "    </tr>\n",
       "    <tr>\n",
       "      <th>1520</th>\n",
       "      <td>Silver City</td>\n",
       "      <td>1491018</td>\n",
       "      <td>71932</td>\n",
       "      <td>Silver City CDP</td>\n",
       "    </tr>\n",
       "  </tbody>\n",
       "</table>\n",
       "<p>1521 rows × 4 columns</p>\n",
       "</div>"
      ],
      "text/plain": [
       "                         city  area_land  place                   place_type\n",
       "0                   King City   10090834  38520               King City city\n",
       "1                    Woodlake    6305660  86300                Woodlake city\n",
       "2            Twentynine Palms  152179753  80994        Twentynine Palms city\n",
       "3                      Upland   40432020  81344                  Upland city\n",
       "4                     Yucaipa   73279143  87042                 Yucaipa city\n",
       "...                       ...        ...    ...                          ...\n",
       "1516           Yosemite Lakes   54136049  86878           Yosemite Lakes CDP\n",
       "1517          Yosemite Valley    5333712  86912          Yosemite Valley CDP\n",
       "1518                  Zayante    7058064  87090                  Zayante CDP\n",
       "1519  Sugarloaf Mountain Park     273752  75588  Sugarloaf Mountain Park CDP\n",
       "1520              Silver City    1491018  71932              Silver City CDP\n",
       "\n",
       "[1521 rows x 4 columns]"
      ]
     },
     "execution_count": 48,
     "metadata": {},
     "output_type": "execute_result"
    }
   ],
   "source": [
    "places_geo"
   ]
  },
  {
   "cell_type": "markdown",
   "id": "58afd18b-b59f-49c9-8eb8-2143dc731869",
   "metadata": {},
   "source": [
    "### Merging"
   ]
  },
  {
   "cell_type": "markdown",
   "id": "b1c27d50-d6ff-42de-bf79-4847a1f9d706",
   "metadata": {},
   "source": [
    "**In the following steps, I'll do a left outer join on the ACS estimates and the dataframe with land area on the common column of 'place.'**"
   ]
  },
  {
   "cell_type": "code",
   "execution_count": 41,
   "id": "d084887d-8d4f-4550-82e2-68fe42ed1067",
   "metadata": {},
   "outputs": [],
   "source": [
    "merged = pd.merge(population_by_place_name, places_geo, on='place', how='outer')"
   ]
  },
  {
   "cell_type": "code",
   "execution_count": 42,
   "id": "92dff347-87b9-4645-aff9-363b098225f8",
   "metadata": {},
   "outputs": [
    {
     "name": "stdout",
     "output_type": "stream",
     "text": [
      "<class 'pandas.core.frame.DataFrame'>\n",
      "Int64Index: 1521 entries, 0 to 1520\n",
      "Data columns (total 6 columns):\n",
      " #   Column        Non-Null Count  Dtype \n",
      "---  ------        --------------  ----- \n",
      " 0   city_x        1521 non-null   object\n",
      " 1   pop_2018_est  1521 non-null   object\n",
      " 2   place         1521 non-null   object\n",
      " 3   city_y        1521 non-null   object\n",
      " 4   area_land     1521 non-null   object\n",
      " 5   place_type    1521 non-null   object\n",
      "dtypes: object(6)\n",
      "memory usage: 83.2+ KB\n"
     ]
    }
   ],
   "source": [
    "merged.info()"
   ]
  },
  {
   "cell_type": "code",
   "execution_count": 43,
   "id": "3dc449d4-350b-4952-b9e8-df71d92afc7a",
   "metadata": {},
   "outputs": [],
   "source": [
    "merged = merged.rename(columns={'city_x':'city'})"
   ]
  },
  {
   "cell_type": "markdown",
   "id": "9ebb0f24-3fc1-4a7a-872b-d4fef606805c",
   "metadata": {},
   "source": [
    "**Merge worked as planned, as there are no null values.**"
   ]
  },
  {
   "cell_type": "markdown",
   "id": "2dabe977-2ddc-4870-b57a-0a4c3b1a9992",
   "metadata": {},
   "source": [
    "**According to [the Census](https://www.census.gov/quickfacts/fact/note/US/LND110210#:~:text=Land%20area%20%2D%20an%20area%20measurement,MAF%2FTIGER%20Database%22), area is calculated in square meters. To convert to square miles, I will first convert 'population' and 'area' to integers, and then divide every value in 'area_land' by 2,589,988.** "
   ]
  },
  {
   "cell_type": "code",
   "execution_count": 45,
   "id": "9508f25f-6fe3-421e-9f0d-b076d642a482",
   "metadata": {},
   "outputs": [],
   "source": [
    "merged['pop_2018_est'] = merged['pop_2018_est'].astype(int)"
   ]
  },
  {
   "cell_type": "code",
   "execution_count": 46,
   "id": "44424028-7076-44a7-b2ea-0e665ec8b8f0",
   "metadata": {},
   "outputs": [],
   "source": [
    "merged['area_land'] = merged['area_land'].astype(int)"
   ]
  },
  {
   "cell_type": "code",
   "execution_count": 47,
   "id": "f5c9961a-1434-4b64-999f-e0160119e73d",
   "metadata": {},
   "outputs": [],
   "source": [
    "merged['area_land'] = (merged['area_land'] / 2589988).round(2)"
   ]
  },
  {
   "cell_type": "markdown",
   "id": "988f8f9e-579f-4fb6-acbe-ff5a4f871799",
   "metadata": {},
   "source": [
    "**To find the population density, I'll create a new column. The values in that row will be population / area (in sq miles).**"
   ]
  },
  {
   "cell_type": "code",
   "execution_count": 49,
   "id": "499a4d85-4b55-424a-98a4-3b39a59f292d",
   "metadata": {},
   "outputs": [],
   "source": [
    "merged['pop_density'] = (merged['pop_2018_est'] / merged['area_land']).round(2)"
   ]
  },
  {
   "cell_type": "markdown",
   "id": "a197b3f0-4ded-4aea-8788-c276c7ae31ab",
   "metadata": {},
   "source": [
    "**Next, I'll create a new dataframe by merging the above with my mobile home data on 'city'.**"
   ]
  },
  {
   "cell_type": "code",
   "execution_count": 51,
   "id": "8c6a0f7a-6908-44fe-adad-3d0face1f1ae",
   "metadata": {},
   "outputs": [],
   "source": [
    "mh_merge = pd.merge(merged, list_of_parks_analysis, on='city', how='left')"
   ]
  },
  {
   "cell_type": "code",
   "execution_count": 52,
   "id": "6b664104-0bdc-4fa4-98be-97dc972fbb99",
   "metadata": {
    "collapsed": true,
    "jupyter": {
     "outputs_hidden": true
    },
    "tags": []
   },
   "outputs": [
    {
     "name": "stdout",
     "output_type": "stream",
     "text": [
      "<class 'pandas.core.frame.DataFrame'>\n",
      "Int64Index: 1521 entries, 0 to 1520\n",
      "Data columns (total 8 columns):\n",
      " #   Column        Non-Null Count  Dtype  \n",
      "---  ------        --------------  -----  \n",
      " 0   city          1521 non-null   object \n",
      " 1   pop_2018_est  1521 non-null   int64  \n",
      " 2   place         1521 non-null   object \n",
      " 3   city_y        1521 non-null   object \n",
      " 4   area_land     1521 non-null   float64\n",
      " 5   place_type    1521 non-null   object \n",
      " 6   pop_density   1521 non-null   float64\n",
      " 7   mh_spaces     678 non-null    float64\n",
      "dtypes: float64(3), int64(1), object(4)\n",
      "memory usage: 106.9+ KB\n"
     ]
    }
   ],
   "source": [
    "mh_merge.info()"
   ]
  },
  {
   "cell_type": "code",
   "execution_count": 53,
   "id": "dd6c444e-4603-4545-b398-2e5450902c2b",
   "metadata": {},
   "outputs": [],
   "source": [
    "merged_path = os.path.join(processed_data, 'merged.csv')\n",
    "merged.to_csv(merged_path, index=False)\n",
    "\n",
    "mh_merge_path = os.path.join(processed_data, 'mh_merge.csv')\n",
    "mh_merge.to_csv(mh_merge_path, index=False)"
   ]
  },
  {
   "cell_type": "code",
   "execution_count": null,
   "id": "3d6d8bd9-2f3e-4dee-b393-1cccc700a914",
   "metadata": {},
   "outputs": [],
   "source": []
  }
 ],
 "metadata": {
  "kernelspec": {
   "display_name": "Python 3 (ipykernel)",
   "language": "python",
   "name": "python3"
  },
  "language_info": {
   "codemirror_mode": {
    "name": "ipython",
    "version": 3
   },
   "file_extension": ".py",
   "mimetype": "text/x-python",
   "name": "python",
   "nbconvert_exporter": "python",
   "pygments_lexer": "ipython3",
   "version": "3.9.9"
  }
 },
 "nbformat": 4,
 "nbformat_minor": 5
}
