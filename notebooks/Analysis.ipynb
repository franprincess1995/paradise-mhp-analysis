{
 "cells": [
  {
   "cell_type": "markdown",
   "id": "f2b0aa68-e8fa-42e3-8988-cbf2164e620d",
   "metadata": {},
   "source": [
    "### Data analysis:  Mobile homes in Paradise, California\n"
   ]
  },
  {
   "cell_type": "markdown",
   "id": "4a32f275-6b2b-4a73-9679-fa05def9f387",
   "metadata": {},
   "source": [
    "#### By Kavish Harjai"
   ]
  },
  {
   "cell_type": "markdown",
   "id": "a935a46a-94b3-486d-bf12-624095a15cba",
   "metadata": {},
   "source": [
    "**Question**\n",
    "\n",
    "How does the number of mobile home lots in Paradise, California, compare to the number of mobile home lots in other cities in California with a similar population density?\n",
    "\n",
    "**Datasets**\n",
    "\n",
    "This project uses three datasets:\n",
    "\n",
    "* List of mobile home parks permitted by the California Housing and Community Development Department. [Source.](https://casas.hcd.ca.gov/casas/cmirMp/onlineQuery)\n",
    "* Population estimates by place in California from the 2018 ACS 5-year-estimates (via API)\n",
    "    - This project uses the 2018 estimates because it reflects population prior to the Camp Fire.\n",
    "* California places geography. [Source.](https://www.census.gov/geographies/mapping-files/time-series/geo/tiger-line-file.2018.html)\n",
    "    - This dataset contains the area of each place in California, which will be needed to calculate population density\n",
    "    \n",
    "**Methodology notes**\n",
    "\n",
    "This notebook follows ```/Wrangling.ipynb```. \n",
    "\n",
    "1. Find the percentile in which Paradise's population density falls\n",
    "2. Find other cities where the population density is within five percentile points above or below Paradise's\n",
    "3. Compare the number of mobile home lots in Paradise to those in cities with comparable population densities"
   ]
  },
  {
   "cell_type": "code",
   "execution_count": 19,
   "id": "5d3f1d44-016a-4e32-bcc5-6e09bc2ec5b8",
   "metadata": {},
   "outputs": [],
   "source": [
    "import pandas as pd \n",
    "import numpy as np\n",
    "import os as os\n",
    "import requests\n",
    "from pprint import pprint"
   ]
  },
  {
   "cell_type": "code",
   "execution_count": 20,
   "id": "31b9b7d0-c987-44cb-a489-e250a9ba430f",
   "metadata": {},
   "outputs": [],
   "source": [
    "data_dir = os.environ[\"DATA_DIR\"]\n",
    "raw_data = data_dir + \"/raw/\"\n",
    "processed_data = data_dir + '/processed/'"
   ]
  },
  {
   "cell_type": "code",
   "execution_count": 27,
   "id": "2fc5a932-e637-42a8-9a9c-89fe0ac7dc6c",
   "metadata": {},
   "outputs": [],
   "source": [
    "mh_merge = pd.read_csv(processed_data + 'mh_merge.csv')"
   ]
  },
  {
   "cell_type": "markdown",
   "id": "57aef300-fb0e-4785-a39e-a19f379cd2d9",
   "metadata": {},
   "source": [
    "Some cities don't have mobile home lots. Drop those from the analysis. "
   ]
  },
  {
   "cell_type": "code",
   "execution_count": 28,
   "id": "c1122821-3b3f-4a81-87b2-c22a957b77be",
   "metadata": {},
   "outputs": [
    {
     "name": "stdout",
     "output_type": "stream",
     "text": [
      "<class 'pandas.core.frame.DataFrame'>\n",
      "RangeIndex: 1521 entries, 0 to 1520\n",
      "Data columns (total 8 columns):\n",
      " #   Column        Non-Null Count  Dtype  \n",
      "---  ------        --------------  -----  \n",
      " 0   city          1521 non-null   object \n",
      " 1   pop_2018_est  1521 non-null   int64  \n",
      " 2   place         1521 non-null   int64  \n",
      " 3   city_y        1521 non-null   object \n",
      " 4   area_land     1521 non-null   float64\n",
      " 5   place_type    1521 non-null   object \n",
      " 6   pop_density   1521 non-null   float64\n",
      " 7   mh_spaces     678 non-null    float64\n",
      "dtypes: float64(3), int64(2), object(3)\n",
      "memory usage: 95.2+ KB\n"
     ]
    }
   ],
   "source": [
    "mh_merge.info()"
   ]
  },
  {
   "cell_type": "markdown",
   "id": "16875e21-105c-4dd4-8ad4-ceae359a49e9",
   "metadata": {},
   "source": [
    "Drop cities where there are no mobile homes. "
   ]
  },
  {
   "cell_type": "code",
   "execution_count": 29,
   "id": "44210609-2be8-4a4a-bd3d-6f3849b82c22",
   "metadata": {},
   "outputs": [],
   "source": [
    "mh_merge_filtered = mh_merge.dropna()"
   ]
  },
  {
   "cell_type": "markdown",
   "id": "1d37d7b2-3a12-47ad-8954-d501221bd523",
   "metadata": {},
   "source": [
    "There are two places called Paradise in California. This analysis is concerned with the town of Paradise, where the population density in 2018 was 1,448.85 people per square mile. "
   ]
  },
  {
   "cell_type": "code",
   "execution_count": 30,
   "id": "0b2a461a-c2de-4d07-9afb-301d5bb7ff15",
   "metadata": {},
   "outputs": [
    {
     "data": {
      "text/html": [
       "<div>\n",
       "<style scoped>\n",
       "    .dataframe tbody tr th:only-of-type {\n",
       "        vertical-align: middle;\n",
       "    }\n",
       "\n",
       "    .dataframe tbody tr th {\n",
       "        vertical-align: top;\n",
       "    }\n",
       "\n",
       "    .dataframe thead th {\n",
       "        text-align: right;\n",
       "    }\n",
       "</style>\n",
       "<table border=\"1\" class=\"dataframe\">\n",
       "  <thead>\n",
       "    <tr style=\"text-align: right;\">\n",
       "      <th></th>\n",
       "      <th>city</th>\n",
       "      <th>pop_2018_est</th>\n",
       "      <th>place</th>\n",
       "      <th>city_y</th>\n",
       "      <th>area_land</th>\n",
       "      <th>place_type</th>\n",
       "      <th>pop_density</th>\n",
       "      <th>mh_spaces</th>\n",
       "    </tr>\n",
       "  </thead>\n",
       "  <tbody>\n",
       "    <tr>\n",
       "      <th>183</th>\n",
       "      <td>Paradise</td>\n",
       "      <td>26543</td>\n",
       "      <td>55520</td>\n",
       "      <td>Paradise</td>\n",
       "      <td>18.32</td>\n",
       "      <td>Paradise town</td>\n",
       "      <td>1448.85</td>\n",
       "      <td>1586.0</td>\n",
       "    </tr>\n",
       "    <tr>\n",
       "      <th>874</th>\n",
       "      <td>Paradise</td>\n",
       "      <td>186</td>\n",
       "      <td>55528</td>\n",
       "      <td>Paradise</td>\n",
       "      <td>4.35</td>\n",
       "      <td>Paradise CDP</td>\n",
       "      <td>42.76</td>\n",
       "      <td>1586.0</td>\n",
       "    </tr>\n",
       "  </tbody>\n",
       "</table>\n",
       "</div>"
      ],
      "text/plain": [
       "         city  pop_2018_est  place    city_y  area_land     place_type  \\\n",
       "183  Paradise         26543  55520  Paradise      18.32  Paradise town   \n",
       "874  Paradise           186  55528  Paradise       4.35   Paradise CDP   \n",
       "\n",
       "     pop_density  mh_spaces  \n",
       "183      1448.85     1586.0  \n",
       "874        42.76     1586.0  "
      ]
     },
     "execution_count": 30,
     "metadata": {},
     "output_type": "execute_result"
    }
   ],
   "source": [
    "mh_merge_filtered[mh_merge_filtered.city == 'Paradise']"
   ]
  },
  {
   "cell_type": "markdown",
   "id": "10b8476b-a1a3-4393-954a-a9e6af54b6fb",
   "metadata": {},
   "source": [
    "To find the range of cities to compare to Paradise, find the percentile in which the town of Paradise's population density falls."
   ]
  },
  {
   "cell_type": "code",
   "execution_count": 8,
   "id": "a485cc19-3626-497b-8d94-f9bd945cb393",
   "metadata": {},
   "outputs": [
    {
     "data": {
      "text/plain": [
       "0.1       65.400\n",
       "0.2      181.572\n",
       "0.3      489.355\n",
       "0.4      940.922\n",
       "0.5     1737.390\n",
       "0.6     2710.674\n",
       "0.7     3450.765\n",
       "0.8     4322.878\n",
       "0.9     6754.560\n",
       "1.0    20352.540\n",
       "Name: pop_density, dtype: float64"
      ]
     },
     "execution_count": 8,
     "metadata": {},
     "output_type": "execute_result"
    }
   ],
   "source": [
    "mh_merge_filtered['pop_density'].quantile(q=[0.1,\n",
    "                                              0.2,\n",
    "                                              0.3,\n",
    "                                              0.4,\n",
    "                                              0.5,\n",
    "                                              0.6,\n",
    "                                              0.7,\n",
    "                                              0.8,\n",
    "                                              0.9,\n",
    "                                              1.0])"
   ]
  },
  {
   "cell_type": "markdown",
   "id": "580583a9-897a-40bd-aff8-2b2e91cef7bf",
   "metadata": {},
   "source": [
    "Paradise falls somewhere between the 40th and 50th percentile. Drill down further. "
   ]
  },
  {
   "cell_type": "code",
   "execution_count": 18,
   "id": "fe94aa3e-d110-4411-acac-0e5dbf5e1081",
   "metadata": {},
   "outputs": [
    {
     "data": {
      "text/plain": [
       "0.40     940.9220\n",
       "0.41     967.0455\n",
       "0.42    1151.2548\n",
       "0.43    1221.7383\n",
       "0.44    1286.7516\n",
       "0.45    1318.8820\n",
       "0.46    1388.6062\n",
       "0.47    1484.7854\n",
       "0.48    1530.8668\n",
       "0.49    1660.7012\n",
       "0.50    1737.3900\n",
       "0.51    1862.2144\n",
       "0.52    1942.4144\n",
       "Name: pop_density, dtype: float64"
      ]
     },
     "execution_count": 18,
     "metadata": {},
     "output_type": "execute_result"
    }
   ],
   "source": [
    "mh_merge_filtered['pop_density'].quantile(q=[0.4,\n",
    "                                             0.41,\n",
    "                                             0.42,\n",
    "                                             0.43,\n",
    "                                             0.44,\n",
    "                                             0.45,\n",
    "                                             0.46,\n",
    "                                             0.47,\n",
    "                                             0.48,\n",
    "                                             0.49,\n",
    "                                             0.5,\n",
    "                                            0.51,\n",
    "                                            0.52])"
   ]
  },
  {
   "cell_type": "markdown",
   "id": "9da3afb2-66af-4e15-8cda-60c00a6dbf70",
   "metadata": {},
   "source": [
    "Paradise falls most closely in the 47th percentile. \n",
    "\n",
    "Create filter to show cities that have a population density between the 42nd and 52nd percentiles."
   ]
  },
  {
   "cell_type": "code",
   "execution_count": 31,
   "id": "0e18314c-f86f-4647-b033-55c3cae2afbc",
   "metadata": {},
   "outputs": [],
   "source": [
    "comparison_range_popdens_percentile = mh_merge_filtered[\n",
    "    (mh_merge_filtered['pop_density']>= 1151.2548) & \n",
    "    (mh_merge_filtered['pop_density']<= 1942.4144)]\n"
   ]
  },
  {
   "cell_type": "code",
   "execution_count": 32,
   "id": "aa82d5b2-2521-4f1d-9721-7673b0478049",
   "metadata": {},
   "outputs": [
    {
     "name": "stdout",
     "output_type": "stream",
     "text": [
      "<class 'pandas.core.frame.DataFrame'>\n",
      "Int64Index: 68 entries, 14 to 1454\n",
      "Data columns (total 8 columns):\n",
      " #   Column        Non-Null Count  Dtype  \n",
      "---  ------        --------------  -----  \n",
      " 0   city          68 non-null     object \n",
      " 1   pop_2018_est  68 non-null     int64  \n",
      " 2   place         68 non-null     int64  \n",
      " 3   city_y        68 non-null     object \n",
      " 4   area_land     68 non-null     float64\n",
      " 5   place_type    68 non-null     object \n",
      " 6   pop_density   68 non-null     float64\n",
      " 7   mh_spaces     68 non-null     float64\n",
      "dtypes: float64(3), int64(2), object(3)\n",
      "memory usage: 4.8+ KB\n"
     ]
    }
   ],
   "source": [
    "comparison_range_popdens_percentile.info()"
   ]
  },
  {
   "cell_type": "markdown",
   "id": "e0caf9d2-082f-4dd3-8ed2-89132e5c8c18",
   "metadata": {},
   "source": [
    "Rank filtered list of cities by number of mobile home spaces. "
   ]
  },
  {
   "cell_type": "code",
   "execution_count": 33,
   "id": "e02fa461-8fe4-43f0-8d17-81a19642358a",
   "metadata": {},
   "outputs": [
    {
     "data": {
      "text/html": [
       "<div>\n",
       "<style scoped>\n",
       "    .dataframe tbody tr th:only-of-type {\n",
       "        vertical-align: middle;\n",
       "    }\n",
       "\n",
       "    .dataframe tbody tr th {\n",
       "        vertical-align: top;\n",
       "    }\n",
       "\n",
       "    .dataframe thead th {\n",
       "        text-align: right;\n",
       "    }\n",
       "</style>\n",
       "<table border=\"1\" class=\"dataframe\">\n",
       "  <thead>\n",
       "    <tr style=\"text-align: right;\">\n",
       "      <th></th>\n",
       "      <th>index</th>\n",
       "      <th>city</th>\n",
       "      <th>pop_2018_est</th>\n",
       "      <th>place</th>\n",
       "      <th>city_y</th>\n",
       "      <th>area_land</th>\n",
       "      <th>place_type</th>\n",
       "      <th>pop_density</th>\n",
       "      <th>mh_spaces</th>\n",
       "    </tr>\n",
       "  </thead>\n",
       "  <tbody>\n",
       "    <tr>\n",
       "      <th>0</th>\n",
       "      <td>556</td>\n",
       "      <td>Yucaipa</td>\n",
       "      <td>53264</td>\n",
       "      <td>87042</td>\n",
       "      <td>Yucaipa</td>\n",
       "      <td>28.29</td>\n",
       "      <td>Yucaipa city</td>\n",
       "      <td>1882.79</td>\n",
       "      <td>4557.0</td>\n",
       "    </tr>\n",
       "    <tr>\n",
       "      <th>1</th>\n",
       "      <td>574</td>\n",
       "      <td>Lancaster</td>\n",
       "      <td>159662</td>\n",
       "      <td>40130</td>\n",
       "      <td>Lancaster</td>\n",
       "      <td>94.28</td>\n",
       "      <td>Lancaster city</td>\n",
       "      <td>1693.49</td>\n",
       "      <td>4177.0</td>\n",
       "    </tr>\n",
       "    <tr>\n",
       "      <th>2</th>\n",
       "      <td>1169</td>\n",
       "      <td>Redding</td>\n",
       "      <td>91327</td>\n",
       "      <td>59920</td>\n",
       "      <td>Redding</td>\n",
       "      <td>59.65</td>\n",
       "      <td>Redding city</td>\n",
       "      <td>1531.05</td>\n",
       "      <td>2569.0</td>\n",
       "    </tr>\n",
       "    <tr>\n",
       "      <th>3</th>\n",
       "      <td>14</td>\n",
       "      <td>Palmdale</td>\n",
       "      <td>156904</td>\n",
       "      <td>55156</td>\n",
       "      <td>Palmdale</td>\n",
       "      <td>106.08</td>\n",
       "      <td>Palmdale city</td>\n",
       "      <td>1479.11</td>\n",
       "      <td>2098.0</td>\n",
       "    </tr>\n",
       "    <tr>\n",
       "      <th>4</th>\n",
       "      <td>980</td>\n",
       "      <td>San Jacinto</td>\n",
       "      <td>47474</td>\n",
       "      <td>67112</td>\n",
       "      <td>San Jacinto</td>\n",
       "      <td>25.71</td>\n",
       "      <td>San Jacinto city</td>\n",
       "      <td>1846.52</td>\n",
       "      <td>1846.0</td>\n",
       "    </tr>\n",
       "    <tr>\n",
       "      <th>5</th>\n",
       "      <td>627</td>\n",
       "      <td>Oroville</td>\n",
       "      <td>19040</td>\n",
       "      <td>54386</td>\n",
       "      <td>Oroville</td>\n",
       "      <td>13.83</td>\n",
       "      <td>Oroville city</td>\n",
       "      <td>1376.72</td>\n",
       "      <td>1620.0</td>\n",
       "    </tr>\n",
       "    <tr>\n",
       "      <th>6</th>\n",
       "      <td>183</td>\n",
       "      <td>Paradise</td>\n",
       "      <td>26543</td>\n",
       "      <td>55520</td>\n",
       "      <td>Paradise</td>\n",
       "      <td>18.32</td>\n",
       "      <td>Paradise town</td>\n",
       "      <td>1448.85</td>\n",
       "      <td>1586.0</td>\n",
       "    </tr>\n",
       "    <tr>\n",
       "      <th>7</th>\n",
       "      <td>680</td>\n",
       "      <td>Victorville</td>\n",
       "      <td>121861</td>\n",
       "      <td>82590</td>\n",
       "      <td>Victorville</td>\n",
       "      <td>73.62</td>\n",
       "      <td>Victorville city</td>\n",
       "      <td>1655.27</td>\n",
       "      <td>1248.0</td>\n",
       "    </tr>\n",
       "    <tr>\n",
       "      <th>8</th>\n",
       "      <td>1446</td>\n",
       "      <td>Ridgecrest</td>\n",
       "      <td>28736</td>\n",
       "      <td>60704</td>\n",
       "      <td>Ridgecrest</td>\n",
       "      <td>20.88</td>\n",
       "      <td>Ridgecrest city</td>\n",
       "      <td>1376.25</td>\n",
       "      <td>1078.0</td>\n",
       "    </tr>\n",
       "    <tr>\n",
       "      <th>9</th>\n",
       "      <td>1227</td>\n",
       "      <td>Auburn</td>\n",
       "      <td>13946</td>\n",
       "      <td>3204</td>\n",
       "      <td>Auburn</td>\n",
       "      <td>7.18</td>\n",
       "      <td>Auburn city</td>\n",
       "      <td>1942.34</td>\n",
       "      <td>1006.0</td>\n",
       "    </tr>\n",
       "    <tr>\n",
       "      <th>10</th>\n",
       "      <td>139</td>\n",
       "      <td>Banning</td>\n",
       "      <td>30942</td>\n",
       "      <td>3820</td>\n",
       "      <td>Banning</td>\n",
       "      <td>23.27</td>\n",
       "      <td>Banning city</td>\n",
       "      <td>1329.69</td>\n",
       "      <td>981.0</td>\n",
       "    </tr>\n",
       "    <tr>\n",
       "      <th>11</th>\n",
       "      <td>718</td>\n",
       "      <td>Sonora</td>\n",
       "      <td>4822</td>\n",
       "      <td>72674</td>\n",
       "      <td>Sonora</td>\n",
       "      <td>3.16</td>\n",
       "      <td>Sonora city</td>\n",
       "      <td>1525.95</td>\n",
       "      <td>874.0</td>\n",
       "    </tr>\n",
       "    <tr>\n",
       "      <th>12</th>\n",
       "      <td>769</td>\n",
       "      <td>Ojai</td>\n",
       "      <td>7555</td>\n",
       "      <td>53476</td>\n",
       "      <td>Ojai</td>\n",
       "      <td>4.35</td>\n",
       "      <td>Ojai city</td>\n",
       "      <td>1736.78</td>\n",
       "      <td>860.0</td>\n",
       "    </tr>\n",
       "    <tr>\n",
       "      <th>13</th>\n",
       "      <td>1012</td>\n",
       "      <td>Fallbrook</td>\n",
       "      <td>33021</td>\n",
       "      <td>23462</td>\n",
       "      <td>Fallbrook</td>\n",
       "      <td>17.50</td>\n",
       "      <td>Fallbrook CDP</td>\n",
       "      <td>1886.91</td>\n",
       "      <td>791.0</td>\n",
       "    </tr>\n",
       "    <tr>\n",
       "      <th>14</th>\n",
       "      <td>554</td>\n",
       "      <td>Hesperia</td>\n",
       "      <td>93609</td>\n",
       "      <td>33434</td>\n",
       "      <td>Hesperia</td>\n",
       "      <td>72.70</td>\n",
       "      <td>Hesperia city</td>\n",
       "      <td>1287.61</td>\n",
       "      <td>741.0</td>\n",
       "    </tr>\n",
       "    <tr>\n",
       "      <th>15</th>\n",
       "      <td>314</td>\n",
       "      <td>Kelseyville</td>\n",
       "      <td>3332</td>\n",
       "      <td>38044</td>\n",
       "      <td>Kelseyville</td>\n",
       "      <td>2.88</td>\n",
       "      <td>Kelseyville CDP</td>\n",
       "      <td>1156.94</td>\n",
       "      <td>725.0</td>\n",
       "    </tr>\n",
       "    <tr>\n",
       "      <th>16</th>\n",
       "      <td>52</td>\n",
       "      <td>Red Bluff</td>\n",
       "      <td>14132</td>\n",
       "      <td>59892</td>\n",
       "      <td>Red Bluff</td>\n",
       "      <td>7.56</td>\n",
       "      <td>Red Bluff city</td>\n",
       "      <td>1869.31</td>\n",
       "      <td>721.0</td>\n",
       "    </tr>\n",
       "    <tr>\n",
       "      <th>17</th>\n",
       "      <td>101</td>\n",
       "      <td>Lakeport</td>\n",
       "      <td>4855</td>\n",
       "      <td>39710</td>\n",
       "      <td>Lakeport</td>\n",
       "      <td>3.06</td>\n",
       "      <td>Lakeport city</td>\n",
       "      <td>1586.60</td>\n",
       "      <td>712.0</td>\n",
       "    </tr>\n",
       "    <tr>\n",
       "      <th>18</th>\n",
       "      <td>911</td>\n",
       "      <td>Poway</td>\n",
       "      <td>49842</td>\n",
       "      <td>58520</td>\n",
       "      <td>Poway</td>\n",
       "      <td>39.08</td>\n",
       "      <td>Poway city</td>\n",
       "      <td>1275.38</td>\n",
       "      <td>696.0</td>\n",
       "    </tr>\n",
       "    <tr>\n",
       "      <th>19</th>\n",
       "      <td>1168</td>\n",
       "      <td>Anderson</td>\n",
       "      <td>10265</td>\n",
       "      <td>2042</td>\n",
       "      <td>Anderson</td>\n",
       "      <td>6.37</td>\n",
       "      <td>Anderson city</td>\n",
       "      <td>1611.46</td>\n",
       "      <td>691.0</td>\n",
       "    </tr>\n",
       "  </tbody>\n",
       "</table>\n",
       "</div>"
      ],
      "text/plain": [
       "    index         city  pop_2018_est  place       city_y  area_land  \\\n",
       "0     556      Yucaipa         53264  87042      Yucaipa      28.29   \n",
       "1     574    Lancaster        159662  40130    Lancaster      94.28   \n",
       "2    1169      Redding         91327  59920      Redding      59.65   \n",
       "3      14     Palmdale        156904  55156     Palmdale     106.08   \n",
       "4     980  San Jacinto         47474  67112  San Jacinto      25.71   \n",
       "5     627     Oroville         19040  54386     Oroville      13.83   \n",
       "6     183     Paradise         26543  55520     Paradise      18.32   \n",
       "7     680  Victorville        121861  82590  Victorville      73.62   \n",
       "8    1446   Ridgecrest         28736  60704   Ridgecrest      20.88   \n",
       "9    1227       Auburn         13946   3204       Auburn       7.18   \n",
       "10    139      Banning         30942   3820      Banning      23.27   \n",
       "11    718       Sonora          4822  72674       Sonora       3.16   \n",
       "12    769         Ojai          7555  53476         Ojai       4.35   \n",
       "13   1012    Fallbrook         33021  23462    Fallbrook      17.50   \n",
       "14    554     Hesperia         93609  33434     Hesperia      72.70   \n",
       "15    314  Kelseyville          3332  38044  Kelseyville       2.88   \n",
       "16     52    Red Bluff         14132  59892    Red Bluff       7.56   \n",
       "17    101     Lakeport          4855  39710     Lakeport       3.06   \n",
       "18    911        Poway         49842  58520        Poway      39.08   \n",
       "19   1168     Anderson         10265   2042     Anderson       6.37   \n",
       "\n",
       "          place_type  pop_density  mh_spaces  \n",
       "0       Yucaipa city      1882.79     4557.0  \n",
       "1     Lancaster city      1693.49     4177.0  \n",
       "2       Redding city      1531.05     2569.0  \n",
       "3      Palmdale city      1479.11     2098.0  \n",
       "4   San Jacinto city      1846.52     1846.0  \n",
       "5      Oroville city      1376.72     1620.0  \n",
       "6      Paradise town      1448.85     1586.0  \n",
       "7   Victorville city      1655.27     1248.0  \n",
       "8    Ridgecrest city      1376.25     1078.0  \n",
       "9        Auburn city      1942.34     1006.0  \n",
       "10      Banning city      1329.69      981.0  \n",
       "11       Sonora city      1525.95      874.0  \n",
       "12         Ojai city      1736.78      860.0  \n",
       "13     Fallbrook CDP      1886.91      791.0  \n",
       "14     Hesperia city      1287.61      741.0  \n",
       "15   Kelseyville CDP      1156.94      725.0  \n",
       "16    Red Bluff city      1869.31      721.0  \n",
       "17     Lakeport city      1586.60      712.0  \n",
       "18        Poway city      1275.38      696.0  \n",
       "19     Anderson city      1611.46      691.0  "
      ]
     },
     "execution_count": 33,
     "metadata": {},
     "output_type": "execute_result"
    }
   ],
   "source": [
    "sort_compared_popdens_percentile = comparison_range_popdens_percentile.sort_values('mh_spaces', ascending= False).reset_index()\n",
    "sort_compared_popdens_percentile.head(20)"
   ]
  },
  {
   "cell_type": "markdown",
   "id": "42e9f2cb-066d-417c-9a18-2adfb4fc2ea6",
   "metadata": {},
   "source": [
    "### Conclusion"
   ]
  },
  {
   "cell_type": "markdown",
   "id": "60558337-1617-48e7-9327-7b80b5b62d21",
   "metadata": {},
   "source": [
    "Paradise has the 7th highest number of mobile home spaces out of the 68 California cities with a similar population density in 2018."
   ]
  },
  {
   "cell_type": "markdown",
   "id": "f92ba132-97c8-41f2-a940-a70cd466f354",
   "metadata": {},
   "source": [
    "Line for story: Paradise had one of the highest numbers of spaces available in its mobile home parks compared with more than 60 other California cities that had a similar concentration of people in 2018, an analysis of state and Census data shows. \n"
   ]
  }
 ],
 "metadata": {
  "kernelspec": {
   "display_name": "Python 3 (ipykernel)",
   "language": "python",
   "name": "python3"
  },
  "language_info": {
   "codemirror_mode": {
    "name": "ipython",
    "version": 3
   },
   "file_extension": ".py",
   "mimetype": "text/x-python",
   "name": "python",
   "nbconvert_exporter": "python",
   "pygments_lexer": "ipython3",
   "version": "3.9.9"
  }
 },
 "nbformat": 4,
 "nbformat_minor": 5
}
